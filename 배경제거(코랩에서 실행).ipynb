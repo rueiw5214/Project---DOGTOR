{
  "cells": [
    {
      "cell_type": "code",
      "execution_count": null,
      "metadata": {
        "colab": {
          "base_uri": "https://localhost:8080/",
          "height": 1000
        },
        "id": "JFzXiSSXILZL",
        "outputId": "efefa8bd-cc16-4c0a-d5e6-796f094b5442"
      },
      "outputs": [
        {
          "name": "stdout",
          "output_type": "stream",
          "text": [
            "Looking in indexes: https://pypi.org/simple, https://us-python.pkg.dev/colab-wheels/public/simple/\n",
            "Collecting rembg\n",
            "  Downloading rembg-2.0.29-py3-none-any.whl (13 kB)\n",
            "Collecting uvicorn==0.20.0\n",
            "  Downloading uvicorn-0.20.0-py3-none-any.whl (56 kB)\n",
            "\u001b[K     |████████████████████████████████| 56 kB 5.5 MB/s \n",
            "\u001b[?25hCollecting fastapi==0.87.0\n",
            "  Downloading fastapi-0.87.0-py3-none-any.whl (55 kB)\n",
            "\u001b[K     |████████████████████████████████| 55 kB 4.7 MB/s \n",
            "\u001b[?25hCollecting click==8.1.3\n",
            "  Downloading click-8.1.3-py3-none-any.whl (96 kB)\n",
            "\u001b[K     |████████████████████████████████| 96 kB 7.1 MB/s \n",
            "\u001b[?25hCollecting python-multipart==0.0.5\n",
            "  Downloading python-multipart-0.0.5.tar.gz (32 kB)\n",
            "Collecting imagehash==4.3.1\n",
            "  Downloading ImageHash-4.3.1-py2.py3-none-any.whl (296 kB)\n",
            "\u001b[K     |████████████████████████████████| 296 kB 64.0 MB/s \n",
            "\u001b[?25hCollecting numpy==1.23.5\n",
            "  Downloading numpy-1.23.5-cp38-cp38-manylinux_2_17_x86_64.manylinux2014_x86_64.whl (17.1 MB)\n",
            "\u001b[K     |████████████████████████████████| 17.1 MB 53.6 MB/s \n",
            "\u001b[?25hCollecting scikit-image==0.19.3\n",
            "  Downloading scikit_image-0.19.3-cp38-cp38-manylinux_2_17_x86_64.manylinux2014_x86_64.whl (14.0 MB)\n",
            "\u001b[K     |████████████████████████████████| 14.0 MB 57.3 MB/s \n",
            "\u001b[?25hCollecting onnxruntime==1.13.1\n",
            "  Downloading onnxruntime-1.13.1-cp38-cp38-manylinux_2_27_x86_64.whl (4.5 MB)\n",
            "\u001b[K     |████████████████████████████████| 4.5 MB 59.3 MB/s \n",
            "\u001b[?25hCollecting aiohttp==3.8.1\n",
            "  Downloading aiohttp-3.8.1-cp38-cp38-manylinux_2_5_x86_64.manylinux1_x86_64.manylinux_2_12_x86_64.manylinux2010_x86_64.whl (1.3 MB)\n",
            "\u001b[K     |████████████████████████████████| 1.3 MB 60.9 MB/s \n",
            "\u001b[?25hCollecting watchdog==2.1.9\n",
            "  Downloading watchdog-2.1.9-py3-none-manylinux2014_x86_64.whl (78 kB)\n",
            "\u001b[K     |████████████████████████████████| 78 kB 4.9 MB/s \n",
            "\u001b[?25hRequirement already satisfied: pooch==1.6.0 in /usr/local/lib/python3.8/dist-packages (from rembg) (1.6.0)\n",
            "Collecting pymatting==1.1.8\n",
            "  Downloading PyMatting-1.1.8-py3-none-any.whl (47 kB)\n",
            "\u001b[K     |████████████████████████████████| 47 kB 6.1 MB/s \n",
            "\u001b[?25hCollecting pillow==9.3.0\n",
            "  Downloading Pillow-9.3.0-cp38-cp38-manylinux_2_17_x86_64.manylinux2014_x86_64.whl (3.2 MB)\n",
            "\u001b[K     |████████████████████████████████| 3.2 MB 51.8 MB/s \n",
            "\u001b[?25hRequirement already satisfied: opencv-python-headless==4.6.0.66 in /usr/local/lib/python3.8/dist-packages (from rembg) (4.6.0.66)\n",
            "Requirement already satisfied: tqdm==4.64.1 in /usr/local/lib/python3.8/dist-packages (from rembg) (4.64.1)\n",
            "Collecting scipy==1.9.3\n",
            "  Downloading scipy-1.9.3-cp38-cp38-manylinux_2_17_x86_64.manylinux2014_x86_64.whl (33.8 MB)\n",
            "\u001b[K     |████████████████████████████████| 33.8 MB 202 kB/s \n",
            "\u001b[?25hCollecting filetype==1.2.0\n",
            "  Downloading filetype-1.2.0-py2.py3-none-any.whl (19 kB)\n",
            "Collecting asyncer==0.0.2\n",
            "  Downloading asyncer-0.0.2-py3-none-any.whl (8.3 kB)\n",
            "Requirement already satisfied: attrs>=17.3.0 in /usr/local/lib/python3.8/dist-packages (from aiohttp==3.8.1->rembg) (22.1.0)\n",
            "Requirement already satisfied: multidict<7.0,>=4.5 in /usr/local/lib/python3.8/dist-packages (from aiohttp==3.8.1->rembg) (6.0.3)\n",
            "Requirement already satisfied: async-timeout<5.0,>=4.0.0a3 in /usr/local/lib/python3.8/dist-packages (from aiohttp==3.8.1->rembg) (4.0.2)\n",
            "Requirement already satisfied: frozenlist>=1.1.1 in /usr/local/lib/python3.8/dist-packages (from aiohttp==3.8.1->rembg) (1.3.3)\n",
            "Requirement already satisfied: yarl<2.0,>=1.0 in /usr/local/lib/python3.8/dist-packages (from aiohttp==3.8.1->rembg) (1.8.2)\n",
            "Requirement already satisfied: aiosignal>=1.1.2 in /usr/local/lib/python3.8/dist-packages (from aiohttp==3.8.1->rembg) (1.3.1)\n",
            "Requirement already satisfied: charset-normalizer<3.0,>=2.0 in /usr/local/lib/python3.8/dist-packages (from aiohttp==3.8.1->rembg) (2.1.1)\n",
            "Collecting anyio<4.0.0,>=3.4.0\n",
            "  Downloading anyio-3.6.2-py3-none-any.whl (80 kB)\n",
            "\u001b[K     |████████████████████████████████| 80 kB 10.8 MB/s \n",
            "\u001b[?25hRequirement already satisfied: pydantic!=1.7,!=1.7.1,!=1.7.2,!=1.7.3,!=1.8,!=1.8.1,<2.0.0,>=1.6.2 in /usr/local/lib/python3.8/dist-packages (from fastapi==0.87.0->rembg) (1.10.2)\n",
            "Collecting starlette==0.21.0\n",
            "  Downloading starlette-0.21.0-py3-none-any.whl (64 kB)\n",
            "\u001b[K     |████████████████████████████████| 64 kB 3.5 MB/s \n",
            "\u001b[?25hRequirement already satisfied: PyWavelets in /usr/local/lib/python3.8/dist-packages (from imagehash==4.3.1->rembg) (1.4.1)\n",
            "Requirement already satisfied: sympy in /usr/local/lib/python3.8/dist-packages (from onnxruntime==1.13.1->rembg) (1.7.1)\n",
            "Collecting coloredlogs\n",
            "  Downloading coloredlogs-15.0.1-py2.py3-none-any.whl (46 kB)\n",
            "\u001b[K     |████████████████████████████████| 46 kB 642 kB/s \n",
            "\u001b[?25hRequirement already satisfied: flatbuffers in /usr/local/lib/python3.8/dist-packages (from onnxruntime==1.13.1->rembg) (1.12)\n",
            "Requirement already satisfied: packaging in /usr/local/lib/python3.8/dist-packages (from onnxruntime==1.13.1->rembg) (21.3)\n",
            "Requirement already satisfied: protobuf in /usr/local/lib/python3.8/dist-packages (from onnxruntime==1.13.1->rembg) (3.19.6)\n",
            "Requirement already satisfied: requests>=2.19.0 in /usr/local/lib/python3.8/dist-packages (from pooch==1.6.0->rembg) (2.23.0)\n",
            "Requirement already satisfied: appdirs>=1.3.0 in /usr/local/lib/python3.8/dist-packages (from pooch==1.6.0->rembg) (1.4.4)\n",
            "Requirement already satisfied: numba!=0.49.0 in /usr/local/lib/python3.8/dist-packages (from pymatting==1.1.8->rembg) (0.56.4)\n",
            "Requirement already satisfied: six>=1.4.0 in /usr/local/lib/python3.8/dist-packages (from python-multipart==0.0.5->rembg) (1.15.0)\n",
            "Requirement already satisfied: imageio>=2.4.1 in /usr/local/lib/python3.8/dist-packages (from scikit-image==0.19.3->rembg) (2.9.0)\n",
            "Requirement already satisfied: tifffile>=2019.7.26 in /usr/local/lib/python3.8/dist-packages (from scikit-image==0.19.3->rembg) (2022.10.10)\n",
            "Requirement already satisfied: networkx>=2.2 in /usr/local/lib/python3.8/dist-packages (from scikit-image==0.19.3->rembg) (2.8.8)\n",
            "Requirement already satisfied: typing-extensions>=3.10.0 in /usr/local/lib/python3.8/dist-packages (from starlette==0.21.0->fastapi==0.87.0->rembg) (4.4.0)\n",
            "Collecting h11>=0.8\n",
            "  Downloading h11-0.14.0-py3-none-any.whl (58 kB)\n",
            "\u001b[K     |████████████████████████████████| 58 kB 7.6 MB/s \n",
            "\u001b[?25hRequirement already satisfied: idna>=2.8 in /usr/local/lib/python3.8/dist-packages (from anyio<4.0.0,>=3.4.0->asyncer==0.0.2->rembg) (2.10)\n",
            "Collecting sniffio>=1.1\n",
            "  Downloading sniffio-1.3.0-py3-none-any.whl (10 kB)\n",
            "Requirement already satisfied: setuptools in /usr/local/lib/python3.8/dist-packages (from numba!=0.49.0->pymatting==1.1.8->rembg) (57.4.0)\n",
            "Requirement already satisfied: llvmlite<0.40,>=0.39.0dev0 in /usr/local/lib/python3.8/dist-packages (from numba!=0.49.0->pymatting==1.1.8->rembg) (0.39.1)\n",
            "Requirement already satisfied: importlib-metadata in /usr/local/lib/python3.8/dist-packages (from numba!=0.49.0->pymatting==1.1.8->rembg) (4.13.0)\n",
            "Requirement already satisfied: pyparsing!=3.0.5,>=2.0.2 in /usr/local/lib/python3.8/dist-packages (from packaging->onnxruntime==1.13.1->rembg) (3.0.9)\n",
            "Requirement already satisfied: urllib3!=1.25.0,!=1.25.1,<1.26,>=1.21.1 in /usr/local/lib/python3.8/dist-packages (from requests>=2.19.0->pooch==1.6.0->rembg) (1.24.3)\n",
            "Requirement already satisfied: certifi>=2017.4.17 in /usr/local/lib/python3.8/dist-packages (from requests>=2.19.0->pooch==1.6.0->rembg) (2022.9.24)\n",
            "Requirement already satisfied: chardet<4,>=3.0.2 in /usr/local/lib/python3.8/dist-packages (from requests>=2.19.0->pooch==1.6.0->rembg) (3.0.4)\n",
            "Collecting humanfriendly>=9.1\n",
            "  Downloading humanfriendly-10.0-py2.py3-none-any.whl (86 kB)\n",
            "\u001b[K     |████████████████████████████████| 86 kB 8.0 MB/s \n",
            "\u001b[?25hRequirement already satisfied: zipp>=0.5 in /usr/local/lib/python3.8/dist-packages (from importlib-metadata->numba!=0.49.0->pymatting==1.1.8->rembg) (3.11.0)\n",
            "Requirement already satisfied: mpmath>=0.19 in /usr/local/lib/python3.8/dist-packages (from sympy->onnxruntime==1.13.1->rembg) (1.2.1)\n",
            "Building wheels for collected packages: python-multipart\n",
            "  Building wheel for python-multipart (setup.py) ... \u001b[?25l\u001b[?25hdone\n",
            "  Created wheel for python-multipart: filename=python_multipart-0.0.5-py3-none-any.whl size=31678 sha256=dc7f93f0367796e80fbb73dc4026095217ae26baef6ffaabfc21c70ad7a0567c\n",
            "  Stored in directory: /root/.cache/pip/wheels/9e/fc/1c/cf980e6413d3ee8e70cd8f39e2366b0f487e3e221aeb452eb0\n",
            "Successfully built python-multipart\n",
            "Installing collected packages: sniffio, pillow, numpy, humanfriendly, anyio, starlette, scipy, h11, coloredlogs, click, watchdog, uvicorn, scikit-image, python-multipart, pymatting, onnxruntime, imagehash, filetype, fastapi, asyncer, aiohttp, rembg\n",
            "  Attempting uninstall: pillow\n",
            "    Found existing installation: Pillow 7.1.2\n",
            "    Uninstalling Pillow-7.1.2:\n",
            "      Successfully uninstalled Pillow-7.1.2\n",
            "  Attempting uninstall: numpy\n",
            "    Found existing installation: numpy 1.21.6\n",
            "    Uninstalling numpy-1.21.6:\n",
            "      Successfully uninstalled numpy-1.21.6\n",
            "  Attempting uninstall: scipy\n",
            "    Found existing installation: scipy 1.7.3\n",
            "    Uninstalling scipy-1.7.3:\n",
            "      Successfully uninstalled scipy-1.7.3\n",
            "  Attempting uninstall: click\n",
            "    Found existing installation: click 7.1.2\n",
            "    Uninstalling click-7.1.2:\n",
            "      Successfully uninstalled click-7.1.2\n",
            "  Attempting uninstall: scikit-image\n",
            "    Found existing installation: scikit-image 0.18.3\n",
            "    Uninstalling scikit-image-0.18.3:\n",
            "      Successfully uninstalled scikit-image-0.18.3\n",
            "  Attempting uninstall: aiohttp\n",
            "    Found existing installation: aiohttp 3.8.3\n",
            "    Uninstalling aiohttp-3.8.3:\n",
            "      Successfully uninstalled aiohttp-3.8.3\n",
            "\u001b[31mERROR: pip's dependency resolver does not currently take into account all the packages that are installed. This behaviour is the source of the following dependency conflicts.\n",
            "flask 1.1.4 requires click<8.0,>=5.1, but you have click 8.1.3 which is incompatible.\u001b[0m\n",
            "Successfully installed aiohttp-3.8.1 anyio-3.6.2 asyncer-0.0.2 click-8.1.3 coloredlogs-15.0.1 fastapi-0.87.0 filetype-1.2.0 h11-0.14.0 humanfriendly-10.0 imagehash-4.3.1 numpy-1.23.5 onnxruntime-1.13.1 pillow-9.3.0 pymatting-1.1.8 python-multipart-0.0.5 rembg-2.0.29 scikit-image-0.19.3 scipy-1.9.3 sniffio-1.3.0 starlette-0.21.0 uvicorn-0.20.0 watchdog-2.1.9\n"
          ]
        },
        {
          "data": {
            "application/vnd.colab-display-data+json": {
              "pip_warning": {
                "packages": [
                  "PIL",
                  "numpy"
                ]
              }
            }
          },
          "metadata": {},
          "output_type": "display_data"
        }
      ],
      "source": [
        "!pip install rembg\n",
        "#이미지 배경 제거 라이브러리 rembg 설치 코드"
      ]
    },
    {
      "cell_type": "code",
      "execution_count": null,
      "metadata": {
        "colab": {
          "base_uri": "https://localhost:8080/"
        },
        "id": "NUZT33znRQrH",
        "outputId": "a8c4494b-7836-4c04-ef7f-6fc49dfdab5c"
      },
      "outputs": [
        {
          "name": "stdout",
          "output_type": "stream",
          "text": [
            "Mounted at /content/drive\n"
          ]
        }
      ],
      "source": [
        "from google.colab import drive\n",
        "drive.mount('/content/drive')\n",
        "# 구글 드라이브에 이미지 먼저 넣어야 해유!\n",
        "#구글 드라이브를 코랩에 마운트하는 코드"
      ]
    },
    {
      "cell_type": "code",
      "execution_count": null,
      "metadata": {
        "colab": {
          "base_uri": "https://localhost:8080/"
        },
        "id": "26PPOA-FIMHk",
        "outputId": "95c2346d-4557-40ee-ce1b-019eef1d666c"
      },
      "outputs": [
        {
          "name": "stdout",
          "output_type": "stream",
          "text": [
            "Looking in indexes: https://pypi.org/simple, https://us-python.pkg.dev/colab-wheels/public/simple/\n",
            "Collecting art\n",
            "  Downloading art-5.8-py2.py3-none-any.whl (595 kB)\n",
            "\u001b[K     |████████████████████████████████| 595 kB 35.5 MB/s \n",
            "\u001b[?25hInstalling collected packages: art\n",
            "Successfully installed art-5.8\n"
          ]
        }
      ],
      "source": [
        "!pip install art\n",
        "# 이쁜 글씨를 위해서 tprint art 라이브러리 설치 코드"
      ]
    },
    {
      "cell_type": "code",
      "execution_count": null,
      "metadata": {
        "colab": {
          "base_uri": "https://localhost:8080/"
        },
        "id": "9aKRFuGhIPDd",
        "outputId": "08516bf4-e47c-4b3a-b108-38ffc2052e43"
      },
      "outputs": [
        {
          "name": "stdout",
          "output_type": "stream",
          "text": [
            "Looking in indexes: https://pypi.org/simple, https://us-python.pkg.dev/colab-wheels/public/simple/\n",
            "Collecting progress\n",
            "  Downloading progress-1.6.tar.gz (7.8 kB)\n",
            "Building wheels for collected packages: progress\n",
            "  Building wheel for progress (setup.py) ... \u001b[?25l\u001b[?25hdone\n",
            "  Created wheel for progress: filename=progress-1.6-py3-none-any.whl size=9630 sha256=bb4987bca2ef0365f38c8c62e0ab00713af525e11cf7bb6f6e583c9aa0e74a04\n",
            "  Stored in directory: /root/.cache/pip/wheels/bb/01/5a/c916509df9b12c6465864251dbe826def8e31a16fa7da54f08\n",
            "Successfully built progress\n",
            "Installing collected packages: progress\n",
            "Successfully installed progress-1.6\n"
          ]
        }
      ],
      "source": [
        "!pip install progress\n",
        "#progress bar 사용하기 위해 라이브러리 설치 코드"
      ]
    },
    {
      "cell_type": "code",
      "execution_count": null,
      "metadata": {
        "colab": {
          "base_uri": "https://localhost:8080/"
        },
        "id": "ZGhynWM-IQjt",
        "outputId": "6ca0b5d5-b4d4-4c47-b76d-b0398a9f90b7"
      },
      "outputs": [
        {
          "name": "stdout",
          "output_type": "stream",
          "text": [
            " ____                                         _                   _                                           _ \n",
            "|  _ \\   ___  _ __ ___    ___  __   __  ___  | |__    __ _   ___ | | __  __ _  _ __   ___   _   _  _ __    __| |\n",
            "| |_) | / _ \\| '_ ` _ \\  / _ \\ \\ \\ / / / _ \\ | '_ \\  / _` | / __|| |/ / / _` || '__| / _ \\ | | | || '_ \\  / _` |\n",
            "|  _ < |  __/| | | | | || (_) | \\ V / |  __/ | |_) || (_| || (__ |   < | (_| || |   | (_) || |_| || | | || (_| |\n",
            "|_| \\_\\ \\___||_| |_| |_| \\___/   \\_/   \\___| |_.__/  \\__,_| \\___||_|\\_\\ \\__, ||_|    \\___/  \\__,_||_| |_| \\__,_|\n",
            "                                                                        |___/                                   \n",
            "\n",
            "Getting list of all files\n"
          ]
        },
        {
          "name": "stderr",
          "output_type": "stream",
          "text": [
            "Downloading data from 'https://github.com/danielgatis/rembg/releases/download/v0.0.0/u2net.onnx' to file '/root/.u2net/u2net.onnx'.\n",
            "100%|███████████████████████████████████████| 176M/176M [00:00<00:00, 49.3GB/s]\n"
          ]
        }
      ],
      "source": [
        "# 배경색 제거\n",
        "import numpy as np #넘파이\n",
        "from PIL import Image #이미지 불러오기 등 이미지 관련 작업\n",
        "from rembg import remove #배경 제거\n",
        "\n",
        "from pathlib import Path #경로 관련 라이브러리\n",
        "from art import tprint #글씨 이쁘게 쓰기\n",
        "from progress.bar import Bar #진행바 표시\n",
        "\n",
        "#이미지 제거 함수\n",
        "def remove_background():\n",
        "    list_of_extensions = ['*.jpg', '*.png'] #jpg 파일 or png파일\n",
        "    all_images = [] #이미지를 담을 빈 리스트 생성\n",
        "\n",
        "    print('Getting list of all files')\n",
        "    for ext in list_of_extensions:\n",
        "        all_images.extend(Path('/content/drive/MyDrive/test').glob(ext)) \n",
        "        #경로상에 모든 jpg,png 확장자 파일 추가\n",
        "\n",
        "#상황 진행바와 같이 실행\n",
        "    with Bar('Removing background...', max=len(all_images)) as bar:\n",
        "        for image_path in all_images:\n",
        "            input_path = Path(image_path) #받아 올 각 이미지 경로 지정\n",
        "            image = input_path.stem #\n",
        "\n",
        "            output_path = f'{image}.png' #배경 제거한 이미지의 경로 지정\n",
        "\n",
        "            input_img = Image.open(input_path) #받아올 이미지 경로의 이미지를 연다\n",
        "            output_img = remove(input_img) #연 이미지의 배경을 제거한다.\n",
        "            output_img.save(output_path) #배경을 제거한 이미지를 원하는 경로에 저장\n",
        "            bar.next() #상황 진행 바\n",
        "\n",
        "def main():\n",
        "    tprint('Remove background') #간지나는 글씨쓰기가 이거인듯 함.\n",
        "    remove_background() #배경제거 함수 실행\n",
        "\n",
        "if __name__ == '__main__':\n",
        "    main()"
      ]
    }
  ],
  "metadata": {
    "accelerator": "GPU",
    "colab": {
      "machine_shape": "hm",
      "provenance": []
    },
    "gpuClass": "standard",
    "kernelspec": {
      "display_name": "Python 3",
      "name": "python3"
    },
    "language_info": {
      "name": "python"
    }
  },
  "nbformat": 4,
  "nbformat_minor": 0
}
