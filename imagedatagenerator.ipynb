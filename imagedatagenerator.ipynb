{
 "cells": [
  {
   "cell_type": "code",
   "execution_count": 12,
   "id": "f45a4e8c",
   "metadata": {},
   "outputs": [],
   "source": [
    "#형태 분류용\n",
    "\n",
    "from tensorflow.keras.preprocessing.image import img_to_array, load_img,array_to_img # 이미지를 배열화, 이미지 가져오기, 배열을 이미지로 만들기\n",
    "from tensorflow.keras.preprocessing.image import ImageDataGenerator # 이미지데이터 제네레이터\n",
    "import numpy as np\n",
    "import os \n",
    "\n",
    "# 이미지 증식  \n",
    "# ImageDataGenerator 내 속성이 랜덤으로 적용됨.  \n",
    "augGen=ImageDataGenerator(rescale=1./255, #밝기 값이 0~1사이로 되도록 정규화\n",
    "                          rotation_range=20, #회전 범위 = 20도\n",
    "                          width_shift_range=0.2, # 좌우 이동 범위 0.2(20%)\n",
    "                          height_shift_range=0.2, # 상하 이동 범위 0.2(20%)\n",
    "                          brightness_range=(0.7, 1.3), #밝기 조절 범위(0.7~1.3배)\n",
    "                          horizontal_flip=True, #상하반전 = True\n",
    "                          vertical_flip=True, #좌우반전 = True\n",
    "                          zoom_range=[0.8,1.2], # zoom_range : 확대,축소 0.3(0.7~1.3 사이의 크기로 랜덤하게... ) \n",
    "                          fill_mode='constant', #빈 공간을 절대값으로 채움. 이미지를 회전, 이동하거나 축소할 때 생기는 공간을 채우는 방식 # 따로 지정 안하면 가장 가까운 픽셀에 맞춰서 나와서 이상해져유 \n",
    "                          cval = 0 #0이니까 검정색 fill_mode가 constant 모드일 때 사용 cval의 값으로 공간을 채움(0이면 검은색)\n",
    "                  ) \n",
    "\n",
    "for i in os.listdir(r\"C:\\Users\\user\\imagedata\\traindata\\poop_image_shape_labeling\\7\"): #listdir(원본 사진 폴더 경로) -> 폴더 내 이미지를 한장씩 불러옴 \n",
    "    img=load_img(r\"C:\\Users\\user\\imagedata\\traindata\\poop_image_shape_labeling\\7\"+'/'+i) #절대 경로 + 원본 사진 파일 경로 \n",
    "    x=img_to_array(img)  # 이미지를 array로 변경  \n",
    "    x=x.reshape((1,)+x.shape) #이미지 배열 크기 조정(차원 조절)\n",
    "    i=0 \n",
    "    #아래 .flow()함수는 임의 변환된 이미지를 배치 단위로 생성해서 지정된 data2폴더에 저장 \n",
    "    #bathch size는 고정, save to dir 는 저장될 폴더 이름, save prefix는 저장될 파일 이름, save format은 파일 형식 \n",
    "    for batch in augGen.flow(x,batch_size=1, save_to_dir=r\"C:\\Users\\user\\imagedata\\traindata\\poop_image_shape_labeling\\data_increase\\7\", \n",
    "                             save_prefix=\"\",save_format=\"png\"): \n",
    "        i+=1 # 이미지가 생성될때마다 1씩 증가\n",
    "        if i > 36: # 사진들이 각 36개씩 생성됨 \n",
    "            break\n",
    "\n"
   ]
  },
  {
   "attachments": {},
   "cell_type": "markdown",
   "id": "2d335639",
   "metadata": {},
   "source": [
    "#색상 분류 용\n",
    "\n",
    "from tensorflow.keras.preprocessing.image import img_to_array, load_img,array_to_img \n",
    "from tensorflow.keras.preprocessing.image import ImageDataGenerator \n",
    "import numpy as np\n",
    "import os \n",
    "\n",
    "# 이미지 증식  \n",
    "# ImageDataGenerator 내 속성이 랜덤으로 적용됌.  \n",
    "augGen=ImageDataGenerator(rescale=1./255,\n",
    "                          brightness_range=(0.2, 1.8),\n",
    "                          horizontal_flip=True,\n",
    "                          vertical_flip=True,\n",
    "                          zoom_range=[0.5,1.5], # zoom_range : 확대,축소 0.3(0.7~1.3 사이의 크기로 랜덤하게... ) \n",
    "                          fill_mode='constant', #이미지를 회전, 이동하거나 축소할 때 생기는 공간을 채우는 방식 \n",
    "                          cval = 0\n",
    "                  ) \n",
    "\n",
    "for i in os.listdir(r\"C:\\Users\\user\\imagedata\\traindata\\train\\red\"): #listdir(원본 사진 폴더 경로) -> 폴더 내 이미지를 한장씩 불러옴 \n",
    "    img=load_img(r\"C:\\Users\\user\\imagedata\\traindata\\train\\red\"+'/'+i) #절대 경로 + 원본 사진 파일 경로 \n",
    "    x=img_to_array(img)  # 이미지를 array로 변경  \n",
    "    x=x.reshape((1,)+x.shape) \n",
    "    i=0 \n",
    "    #아래 .flow()함수는 임의 변환된 이미지를 배치 단위로 생성해서 지정된 data2폴더에 저장 \n",
    "    #bathch size는 고정, save to dir 는 저장될 폴더 이름, save prefix는 저장될 파일 이름, save format은 파일 형식 \n",
    "    for batch in augGen.flow(x,batch_size=1, save_to_dir=r\"C:\\Users\\user\\imagedata\\traindata\\sample_increase\\red\", \n",
    "                             save_prefix=\"red\",save_format=\"png\"): \n",
    "        i+=1 \n",
    "        if i > 24: # 사진들이 각 3개씩 생성됨 \n",
    "            break\n",
    "\n"
   ]
  },
  {
   "cell_type": "code",
   "execution_count": null,
   "id": "95afc673",
   "metadata": {},
   "outputs": [],
   "source": []
  }
 ],
 "metadata": {
  "kernelspec": {
   "display_name": "Python 3 (ipykernel)",
   "language": "python",
   "name": "python3"
  },
  "language_info": {
   "codemirror_mode": {
    "name": "ipython",
    "version": 3
   },
   "file_extension": ".py",
   "mimetype": "text/x-python",
   "name": "python",
   "nbconvert_exporter": "python",
   "pygments_lexer": "ipython3",
   "version": "3.9.12"
  }
 },
 "nbformat": 4,
 "nbformat_minor": 5
}
