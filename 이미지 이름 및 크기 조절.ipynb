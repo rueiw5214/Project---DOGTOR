{
 "cells": [
  {
   "cell_type": "markdown",
   "id": "aac822d0",
   "metadata": {},
   "source": [
    "# 이미지 크기 조절"
   ]
  },
  {
   "cell_type": "code",
   "execution_count": 3,
   "id": "5bc1e0a5",
   "metadata": {},
   "outputs": [],
   "source": [
    "import os\n",
    "import glob\n",
    "from PIL import Image\n",
    "\n",
    "# files = glob.glob(r\"C:\\Users\\user\\Desktop\\최종 train(불리기 전)\\train\\*\\*.png\")\n",
    "files = glob.glob(r\"C:\\Users\\user\\Desktop\\t11.png\")\n",
    "\n",
    "for f in files:\n",
    "    img = Image.open(f)\n",
    "    img_resize = img.resize((256, 256))\n",
    "    title, ext = os.path.splitext(f) # 제목과 확장자명 분리\n",
    "    img_resize.save(title+ ext) # 이미지 이름 만들어주기"
   ]
  },
  {
   "cell_type": "markdown",
   "id": "724a5c04",
   "metadata": {},
   "source": [
    "# 이름 바꾸기"
   ]
  },
  {
   "cell_type": "code",
   "execution_count": 19,
   "id": "6dccdfe9",
   "metadata": {},
   "outputs": [
    {
     "data": {
      "text/plain": [
       "['t53.png',\n",
       " 't54.png',\n",
       " 't55.png',\n",
       " 't56.png',\n",
       " 't57.png',\n",
       " 't58.png',\n",
       " 't59.png',\n",
       " 't60.png',\n",
       " 't61.png',\n",
       " 't62.png']"
      ]
     },
     "execution_count": 19,
     "metadata": {},
     "output_type": "execute_result"
    }
   ],
   "source": [
    "import os\n",
    "\n",
    "# 주어진 디렉토리에 있는 항목들의 이름을 담고 있는 리스트를 반환합니다.\n",
    "# 리스트는 임의의 순서대로 나열됩니다.\n",
    "file_path = r\"C:\\Users\\user\\Desktop\\test\\yellow\"\n",
    "file_names = os.listdir(file_path)# 경로에 접근하여 리스트에 담는다.\n",
    "file_names"
   ]
  },
  {
   "cell_type": "code",
   "execution_count": 18,
   "id": "3bd22d09",
   "metadata": {},
   "outputs": [],
   "source": [
    "i = 53 # 레드에서 1~10 까지 있었다면 다른 폴더에서 시작할때 숫자 바뀌는거에 맞춰서 진행\n",
    "for name in file_names:\n",
    "    try:\n",
    "        src = os.path.join(file_path, name) # 파일 경로를 가져온것에 이름 붙이기\n",
    "        dst = 't'+str(i) + '.png'\n",
    "        dst = os.path.join(file_path, dst)\n",
    "        os.rename(src, dst)# src를 dst로 이름 변경\n",
    "        i += 1\n",
    "    except:\n",
    "        pass"
   ]
  },
  {
   "cell_type": "code",
   "execution_count": null,
   "id": "c77e4af3",
   "metadata": {},
   "outputs": [],
   "source": []
  }
 ],
 "metadata": {
  "kernelspec": {
   "display_name": "Python 3 (ipykernel)",
   "language": "python",
   "name": "python3"
  },
  "language_info": {
   "codemirror_mode": {
    "name": "ipython",
    "version": 3
   },
   "file_extension": ".py",
   "mimetype": "text/x-python",
   "name": "python",
   "nbconvert_exporter": "python",
   "pygments_lexer": "ipython3",
   "version": "3.7.15"
  }
 },
 "nbformat": 4,
 "nbformat_minor": 5
}
