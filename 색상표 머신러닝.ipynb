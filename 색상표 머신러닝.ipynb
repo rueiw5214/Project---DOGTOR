{
 "cells": [
  {
   "cell_type": "code",
   "execution_count": 1,
   "metadata": {
    "executionInfo": {
     "elapsed": 435,
     "status": "ok",
     "timestamp": 1670570960896,
     "user": {
      "displayName": "서완석",
      "userId": "10694020963776158375"
     },
     "user_tz": -540
    },
    "id": "-q1fxEae9kBR"
   },
   "outputs": [],
   "source": [
    "import matplotlib.pyplot as plt\n",
    "from sklearn.tree import DecisionTreeClassifier\n",
    "import numpy as np\n",
    "import pandas as pd\n",
    "from sklearn.ensemble import RandomForestClassifier\n",
    "from sklearn.naive_bayes import GaussianNB\n",
    "from sklearn.neighbors import KNeighborsClassifier\n",
    "from sklearn.ensemble import AdaBoostClassifier, VotingClassifier, BaggingClassifier\n",
    "from sklearn.discriminant_analysis import QuadraticDiscriminantAnalysis\n",
    "from sklearn.svm import SVC\n",
    "from xgboost import XGBClassifier\n",
    "import os\n",
    "from PIL import Image\n",
    "from sklearn.metrics import accuracy_score, confusion_matrix, classification_report, plot_confusion_matrix\n",
    "import plotly.express as px\n",
    "from sklearn.model_selection import GridSearchCV,RandomizedSearchCV\n",
    "from lightgbm import LGBMClassifier\n"
   ]
  },
  {
   "cell_type": "code",
   "execution_count": 2,
   "metadata": {
    "executionInfo": {
     "elapsed": 2070,
     "status": "ok",
     "timestamp": 1670570962963,
     "user": {
      "displayName": "서완석",
      "userId": "10694020963776158375"
     },
     "user_tz": -540
    },
    "id": "nfr6D3MX9ePY"
   },
   "outputs": [],
   "source": [
    "X = np.load(\"C:/Users/user/imagedata/imgnpy/X_train_12000.npy\")\n",
    "y = np.load(\"C:/Users/user/imagedata/imgnpy/y_train_12000.npy\")\n",
    "for i in range(50,110,10):\n",
    "    globals()[f'X_test_set_{i}'] = np.load(f\"C:/Users/user/imagedata/imgnpy/X_test_set_3_{i}.npy\") # globals전역변수르 만들어서 지워지지 않게 만들어짐 자동화 \n",
    "for i in range(50,110,10):\n",
    "    globals()[f'y_test_set_{i}'] = np.load(f\"C:/Users/user/imagedata/imgnpy/y_test_set_3_{i}.npy\")"
   ]
  },
  {
   "cell_type": "code",
   "execution_count": 3,
   "metadata": {
    "executionInfo": {
     "elapsed": 785,
     "status": "ok",
     "timestamp": 1670570966085,
     "user": {
      "displayName": "서완석",
      "userId": "10694020963776158375"
     },
     "user_tz": -540
    },
    "id": "vsPx1WCvc4MS"
   },
   "outputs": [],
   "source": [
    "X = X.reshape(-1, 334*55*3) # 머신러닝 쓸 때는 무조건 평탄화 규제값 추가 50~ 100\n",
    "\n",
    "X_test_set_50 = X_test_set_50.reshape(-1, 334*55*3)\n",
    "X_test_set_60 = X_test_set_60.reshape(-1, 334*55*3)\n",
    "X_test_set_70 = X_test_set_70.reshape(-1, 334*55*3)\n",
    "X_test_set_80 = X_test_set_80.reshape(-1, 334*55*3)\n",
    "X_test_set_90 = X_test_set_90.reshape(-1, 334*55*3)\n",
    "X_test_set_100 = X_test_set_100.reshape(-1, 334*55*3)"
   ]
  },
  {
   "cell_type": "code",
   "execution_count": 4,
   "metadata": {
    "colab": {
     "base_uri": "https://localhost:8080/"
    },
    "executionInfo": {
     "elapsed": 467,
     "status": "ok",
     "timestamp": 1670555294258,
     "user": {
      "displayName": "서완석",
      "userId": "10694020963776158375"
     },
     "user_tz": -540
    },
    "id": "C2J0XMpClKXH",
    "outputId": "52340e23-cf42-4bc6-fcb8-28609f3ee9ac"
   },
   "outputs": [
    {
     "name": "stdout",
     "output_type": "stream",
     "text": [
      "(51, 55110)\n",
      "(51, 55110)\n",
      "(51, 55110)\n",
      "(51, 55110)\n",
      "(51, 55110)\n",
      "(51, 55110)\n"
     ]
    }
   ],
   "source": [
    "print(X_test_set_50.shape)\n",
    "print(X_test_set_90.shape)\n",
    "print(X_test_set_70.shape)\n",
    "print(X_test_set_80.shape)\n",
    "print(X_test_set_90.shape)\n",
    "print(X_test_set_100.shape)"
   ]
  },
  {
   "cell_type": "code",
   "execution_count": 5,
   "metadata": {
    "colab": {
     "base_uri": "https://localhost:8080/"
    },
    "executionInfo": {
     "elapsed": 1,
     "status": "ok",
     "timestamp": 1670555296230,
     "user": {
      "displayName": "서완석",
      "userId": "10694020963776158375"
     },
     "user_tz": -540
    },
    "id": "HTn-et8795Vo",
    "outputId": "ed7d8d6f-a594-4597-a8d8-755c17d2f080"
   },
   "outputs": [
    {
     "data": {
      "text/plain": [
       "(11994, 55110)"
      ]
     },
     "execution_count": 5,
     "metadata": {},
     "output_type": "execute_result"
    }
   ],
   "source": [
    "X.shape"
   ]
  },
  {
   "cell_type": "code",
   "execution_count": 6,
   "metadata": {
    "executionInfo": {
     "elapsed": 622,
     "status": "ok",
     "timestamp": 1670570971187,
     "user": {
      "displayName": "서완석",
      "userId": "10694020963776158375"
     },
     "user_tz": -540
    },
    "id": "L-2_qJLG__ZY"
   },
   "outputs": [],
   "source": [
    "from sklearn.model_selection import train_test_split # x랑 y를 나누자\n",
    "\n",
    "X_train, X_test, y_train, y_test = train_test_split(X, y,\n",
    "                                                      test_size=0.2,\n",
    "                                                      random_state=42,\n",
    "                                                      shuffle=True, # 할 때 마다 랜덤으로\n",
    "                                                      stratify=y)"
   ]
  },
  {
   "cell_type": "code",
   "execution_count": null,
   "metadata": {
    "colab": {
     "base_uri": "https://localhost:8080/",
     "height": 685
    },
    "executionInfo": {
     "elapsed": 5291,
     "status": "ok",
     "timestamp": 1670571009091,
     "user": {
      "displayName": "서완석",
      "userId": "10694020963776158375"
     },
     "user_tz": -540
    },
    "id": "TnthriK1Hwsp",
    "outputId": "e0d0ccca-23ca-41b5-c37f-957565548644"
   },
   "outputs": [],
   "source": [
    "# Random Forest Classifier\n",
    "rd_clf = RandomForestClassifier()\n",
    "rd_clf.fit(X_train, y_train)\n",
    "\n",
    "# Accuracy\n",
    "rd_clf_acc = accuracy_score(y_test, rd_clf.predict(X_test))\n",
    "\n",
    "# 실제 데이터 test\n",
    "rd_clf_real_50 = accuracy_score(y_test_set_50, rd_clf.predict(X_test_set_50))\n",
    "rd_clf_real_60 = accuracy_score(y_test_set_60, rd_clf.predict(X_test_set_60))\n",
    "rd_clf_real_70 = accuracy_score(y_test_set_70, rd_clf.predict(X_test_set_70))\n",
    "rd_clf_real_80 = accuracy_score(y_test_set_80, rd_clf.predict(X_test_set_80))\n",
    "rd_clf_real_90 = accuracy_score(y_test_set_90, rd_clf.predict(X_test_set_90))\n",
    "rd_clf_real_100 = accuracy_score(y_test_set_100, rd_clf.predict(X_test_set_100))\n",
    "\n",
    "#confusion_matrix\n",
    "rd_cm = confusion_matrix(y_test, rd_clf.predict(X_test))\n",
    "plot_confusion_matrix(rd_clf, X_test, y_test, cmap='OrRd')\n",
    "print(f\"Classification Report :- \\n {classification_report(y_test, rd_clf.predict(X_test))}\")\n",
    "print(\"정확도 : \", rd_clf_acc)\n",
    "print(\"실제 test_set_50 정확도 : \", rd_clf_real_50)\n",
    "print(\"실제 test_set_60 정확도 : \", rd_clf_real_60)\n",
    "print(\"실제 test_set_70 정확도 : \", rd_clf_real_70)\n",
    "print(\"실제 test_set_80 정확도 : \", rd_clf_real_80)\n",
    "print(\"실제 test_set_90 정확도 : \", rd_clf_real_90)\n",
    "print(\"실제 test_set_100 정확도 : \", rd_clf_real_100)"
   ]
  },
  {
   "cell_type": "code",
   "execution_count": null,
   "metadata": {
    "colab": {
     "base_uri": "https://localhost:8080/",
     "height": 1000
    },
    "executionInfo": {
     "elapsed": 1800,
     "status": "ok",
     "timestamp": 1670565894820,
     "user": {
      "displayName": "서완석",
      "userId": "10694020963776158375"
     },
     "user_tz": -540
    },
    "id": "7jdI4JSP38c2",
    "outputId": "7b1cbb22-c34a-4844-924c-5be55c938d6d"
   },
   "outputs": [],
   "source": [
    "plot_confusion_matrix(rd_clf, X_test_set_50, y_test_set_50, cmap='OrRd')\n",
    "plot_confusion_matrix(rd_clf, X_test_set_60, y_test_set_60, cmap='OrRd')\n",
    "plot_confusion_matrix(rd_clf, X_test_set_70, y_test_set_70, cmap='OrRd')\n",
    "plot_confusion_matrix(rd_clf, X_test_set_80, y_test_set_80, cmap='OrRd')\n",
    "plot_confusion_matrix(rd_clf, X_test_set_90, y_test_set_90, cmap='OrRd')\n",
    "plot_confusion_matrix(rd_clf, X_test_set_100, y_test_set_100, cmap='OrRd')"
   ]
  },
  {
   "cell_type": "code",
   "execution_count": null,
   "metadata": {
    "colab": {
     "base_uri": "https://localhost:8080/"
    },
    "executionInfo": {
     "elapsed": 1113178,
     "status": "ok",
     "timestamp": 1670467065904,
     "user": {
      "displayName": "서완석",
      "userId": "10694020963776158375"
     },
     "user_tz": -540
    },
    "id": "5OgmWh3O2sY6",
    "outputId": "e31dc1f1-64e9-4380-c60a-cc6a5481a219"
   },
   "outputs": [],
   "source": [
    "from sklearn.model_selection import cross_val_predict # 분류마다 보여주겡\n",
    "# 0으로 분류\n",
    "y_train_0 = (y_train == 0)\n",
    "y_train_pred = cross_val_predict(rd_clf, X_train, y_train_0, cv=3)\n",
    "cf_0 = confusion_matrix(y_train_0, y_train_pred)\n",
    "# 1로 분류\n",
    "y_train_1 = (y_train == 1)\n",
    "y_train_pred = cross_val_predict(rd_clf, X_train, y_train_1, cv=3)\n",
    "cf_1 = confusion_matrix(y_train_1, y_train_pred)\n",
    "# 2로 분류\n",
    "y_train_2 = (y_train == 2)\n",
    "y_train_pred = cross_val_predict(rd_clf, X_train, y_train_2, cv=3)\n",
    "cf_2 = confusion_matrix(y_train_2, y_train_pred)\n",
    "# 3로 분류\n",
    "y_train_3 = (y_train == 3)\n",
    "y_train_pred = cross_val_predict(rd_clf, X_train, y_train_3, cv=3)\n",
    "cf_3 = confusion_matrix(y_train_3, y_train_pred)\n",
    "# 4로 분류\n",
    "y_train_4 = (y_train == 4)\n",
    "y_train_pred = cross_val_predict(rd_clf, X_train, y_train_4, cv=3)\n",
    "cf_4 = confusion_matrix(y_train_4, y_train_pred)\n",
    "\n",
    "# 5로 분류\n",
    "y_train_5 = (y_train == 5)\n",
    "y_train_pred = cross_val_predict(rd_clf, X_train, y_train_5, cv=3)\n",
    "cf_5 = confusion_matrix(y_train_5, y_train_pred)\n",
    "\n",
    "print(cf_0)\n",
    "print(cf_1)\n",
    "print(cf_2)\n",
    "print(cf_3)\n",
    "print(cf_4)\n",
    "print(cf_5)"
   ]
  },
  {
   "cell_type": "code",
   "execution_count": null,
   "metadata": {
    "id": "mx0_zq-u4Q4r"
   },
   "outputs": [],
   "source": [
    "#  ↓실제값        0이 아님         0임     <- 예측값\n",
    "# 0이 아님         128(TN)        13(FP)\n",
    "#    0임            33(FN)        51(TP)"
   ]
  },
  {
   "cell_type": "code",
   "execution_count": null,
   "metadata": {
    "colab": {
     "base_uri": "https://localhost:8080/",
     "height": 681
    },
    "executionInfo": {
     "elapsed": 16061,
     "status": "ok",
     "timestamp": 1670571286323,
     "user": {
      "displayName": "서완석",
      "userId": "10694020963776158375"
     },
     "user_tz": -540
    },
    "id": "81eCop6LLfaa",
    "outputId": "352d4ee1-74a1-43d5-9d0e-049bfb82740c"
   },
   "outputs": [],
   "source": [
    "#DecisionTree\n",
    "\n",
    "dt_clf = DecisionTreeClassifier()\n",
    "dt_clf.fit(X_train, y_train)\n",
    "\n",
    "# Accuracy\n",
    "dt_clf_acc = accuracy_score(y_test, dt_clf.predict(X_test))\n",
    "\n",
    "\n",
    "# 실제 데이터 test\n",
    "dt_clf_real_50 = accuracy_score(y_test_set_50, dt_clf.predict(X_test_set_50))\n",
    "dt_clf_real_60 = accuracy_score(y_test_set_60, dt_clf.predict(X_test_set_60))\n",
    "dt_clf_real_70 = accuracy_score(y_test_set_70, dt_clf.predict(X_test_set_70))\n",
    "dt_clf_real_80 = accuracy_score(y_test_set_80, dt_clf.predict(X_test_set_80))\n",
    "dt_clf_real_90 = accuracy_score(y_test_set_90, dt_clf.predict(X_test_set_90))\n",
    "dt_clf_real_100 = accuracy_score(y_test_set_100, dt_clf.predict(X_test_set_100))\n",
    "\n",
    "#confusion_matrix\n",
    "dt_cm = confusion_matrix(y_test, dt_clf.predict(X_test))\n",
    "plot_confusion_matrix(dt_clf, X_test, y_test, cmap='OrRd')\n",
    "print(f\"Classification Report :- \\n {classification_report(y_test, dt_clf.predict(X_test))}\")\n",
    "print(\"정확도 : \", dt_clf_acc)\n",
    "print(\"실제 test_set_50 정확도 : \", dt_clf_real_50)\n",
    "print(\"실제 test_set_60 정확도 : \", dt_clf_real_60)\n",
    "print(\"실제 test_set_70 정확도 : \", dt_clf_real_70)\n",
    "print(\"실제 test_set_80 정확도 : \", dt_clf_real_80)\n",
    "print(\"실제 test_set_90 정확도 : \", dt_clf_real_90)\n",
    "print(\"실제 test_set_100 정확도 : \", dt_clf_real_100)"
   ]
  },
  {
   "cell_type": "code",
   "execution_count": null,
   "metadata": {
    "colab": {
     "base_uri": "https://localhost:8080/",
     "height": 681
    },
    "executionInfo": {
     "elapsed": 1623,
     "status": "ok",
     "timestamp": 1670571366749,
     "user": {
      "displayName": "서완석",
      "userId": "10694020963776158375"
     },
     "user_tz": -540
    },
    "id": "51pr8xnzQgKg",
    "outputId": "2f9a242d-c55d-48ca-ac85-d6f12f7a797e"
   },
   "outputs": [],
   "source": [
    "# GaussianNB\n",
    "\n",
    "gnb_clf = GaussianNB()\n",
    "gnb_clf.fit(X_train, y_train)\n",
    "\n",
    "# Accuracy\n",
    "gnb_clf_acc = accuracy_score(y_test, gnb_clf.predict(X_test))\n",
    "\n",
    "\n",
    "# 실제 데이터 test\n",
    "gnb_clf_real_50 = accuracy_score(y_test_set_50, gnb_clf.predict(X_test_set_50))\n",
    "gnb_clf_real_60 = accuracy_score(y_test_set_60, gnb_clf.predict(X_test_set_60))\n",
    "gnb_clf_real_70 = accuracy_score(y_test_set_70, gnb_clf.predict(X_test_set_70))\n",
    "gnb_clf_real_80 = accuracy_score(y_test_set_80, gnb_clf.predict(X_test_set_80))\n",
    "gnb_clf_real_90 = accuracy_score(y_test_set_90, gnb_clf.predict(X_test_set_90))\n",
    "gnb_clf_real_100 = accuracy_score(y_test_set_100, gnb_clf.predict(X_test_set_100))\n",
    "\n",
    "#confusion_matrix\n",
    "gnb_cm = confusion_matrix(y_test, gnb_clf.predict(X_test))\n",
    "plot_confusion_matrix(gnb_clf, X_test, y_test, cmap='OrRd')\n",
    "print(f\"Classification Report :- \\n {classification_report(y_test, gnb_clf.predict(X_test))}\")\n",
    "print(\"정확도 : \", gnb_clf_acc)\n",
    "print(\"실제 test_set_50 정확도 : \", gnb_clf_real_50)\n",
    "print(\"실제 test_set_60 정확도 : \", gnb_clf_real_60)\n",
    "print(\"실제 test_set_70 정확도 : \", gnb_clf_real_70)\n",
    "print(\"실제 test_set_80 정확도 : \", gnb_clf_real_80)\n",
    "print(\"실제 test_set_90 정확도 : \", gnb_clf_real_90)\n",
    "print(\"실제 test_set_100 정확도 : \", gnb_clf_real_100)"
   ]
  },
  {
   "cell_type": "code",
   "execution_count": null,
   "metadata": {
    "colab": {
     "base_uri": "https://localhost:8080/",
     "height": 681
    },
    "executionInfo": {
     "elapsed": 88806,
     "status": "ok",
     "timestamp": 1670571619210,
     "user": {
      "displayName": "서완석",
      "userId": "10694020963776158375"
     },
     "user_tz": -540
    },
    "id": "jDYe6vM9Q8Ms",
    "outputId": "b9bad408-82a5-4e49-b3d9-8b61a111121f"
   },
   "outputs": [],
   "source": [
    "# Bagging\n",
    "\n",
    "bagging_clf = BaggingClassifier()\n",
    "bagging_clf.fit(X_train, y_train)\n",
    "\n",
    "# Accuracy\n",
    "bagging_clf_acc = accuracy_score(y_test, bagging_clf.predict(X_test))\n",
    "\n",
    "\n",
    "# 실제 데이터 test\n",
    "bagging_clf_real_50 = accuracy_score(y_test_set_50, bagging_clf.predict(X_test_set_50))\n",
    "bagging_clf_real_60 = accuracy_score(y_test_set_60, bagging_clf.predict(X_test_set_60))\n",
    "bagging_clf_real_70 = accuracy_score(y_test_set_70, bagging_clf.predict(X_test_set_70))\n",
    "bagging_clf_real_80 = accuracy_score(y_test_set_80, bagging_clf.predict(X_test_set_80))\n",
    "bagging_clf_real_90 = accuracy_score(y_test_set_90, bagging_clf.predict(X_test_set_90))\n",
    "bagging_clf_real_100 = accuracy_score(y_test_set_100, bagging_clf.predict(X_test_set_100))\n",
    "\n",
    "#confusion_matrix\n",
    "bagging_cm = confusion_matrix(y_test, bagging_clf.predict(X_test))\n",
    "plot_confusion_matrix(bagging_clf, X_test, y_test, cmap='OrRd')\n",
    "print(f\"Classification Report :- \\n {classification_report(y_test, bagging_clf.predict(X_test))}\")\n",
    "print(\"정확도 : \", bagging_clf_acc)\n",
    "print(\"실제 test_set_50 정확도 : \", bagging_clf_real_50)\n",
    "print(\"실제 test_set_60 정확도 : \", bagging_clf_real_60)\n",
    "print(\"실제 test_set_70 정확도 : \", bagging_clf_real_70)\n",
    "print(\"실제 test_set_80 정확도 : \", bagging_clf_real_80)\n",
    "print(\"실제 test_set_90 정확도 : \", bagging_clf_real_90)\n",
    "print(\"실제 test_set_100 정확도 : \", bagging_clf_real_100)"
   ]
  },
  {
   "cell_type": "code",
   "execution_count": null,
   "metadata": {
    "colab": {
     "base_uri": "https://localhost:8080/",
     "height": 681
    },
    "executionInfo": {
     "elapsed": 236166,
     "status": "ok",
     "timestamp": 1670572066235,
     "user": {
      "displayName": "서완석",
      "userId": "10694020963776158375"
     },
     "user_tz": -540
    },
    "id": "aMXnzlJ7RG0M",
    "outputId": "299d88bb-49c4-4d60-8fc6-4248af7704e0"
   },
   "outputs": [],
   "source": [
    "from lightgbm import LGBMClassifier\n",
    "\n",
    "lgbm_clf = LGBMClassifier()\n",
    "\n",
    "lgbm_clf.fit(X_train, y_train)\n",
    "\n",
    "lgbm_acc = accuracy_score(y_test, lgbm_clf.predict(X_test)) \n",
    "\n",
    "\n",
    "# 실제 데이터 test\n",
    "lgbm_clf_real_50 = accuracy_score(y_test_set_50, lgbm_clf.predict(X_test_set_50))\n",
    "lgbm_clf_real_60 = accuracy_score(y_test_set_60, lgbm_clf.predict(X_test_set_60))\n",
    "lgbm_clf_real_70 = accuracy_score(y_test_set_70, lgbm_clf.predict(X_test_set_70))\n",
    "lgbm_clf_real_80 = accuracy_score(y_test_set_80, lgbm_clf.predict(X_test_set_80))\n",
    "lgbm_clf_real_90 = accuracy_score(y_test_set_90, lgbm_clf.predict(X_test_set_90))\n",
    "lgbm_clf_real_100 = accuracy_score(y_test_set_100, lgbm_clf.predict(X_test_set_100))\n",
    "\n",
    "#confusion_matrix\n",
    "lgbm_cm = confusion_matrix(y_test, lgbm_clf.predict(X_test))\n",
    "plot_confusion_matrix(lgbm_clf, X_test, y_test, cmap='OrRd')\n",
    "print(f\"Classification Report :- \\n {classification_report(y_test, lgbm_clf.predict(X_test))}\")\n",
    "print(\"정확도 : \", lgbm_acc)\n",
    "print(\"실제 test_set_50 정확도 : \", lgbm_clf_real_50)\n",
    "print(\"실제 test_set_60 정확도 : \", lgbm_clf_real_60)\n",
    "print(\"실제 test_set_70 정확도 : \", lgbm_clf_real_70)\n",
    "print(\"실제 test_set_80 정확도 : \", lgbm_clf_real_80)\n",
    "print(\"실제 test_set_90 정확도 : \", lgbm_clf_real_90)\n",
    "print(\"실제 test_set_100 정확도 : \", lgbm_clf_real_100)"
   ]
  },
  {
   "cell_type": "code",
   "execution_count": null,
   "metadata": {
    "colab": {
     "base_uri": "https://localhost:8080/",
     "height": 685
    },
    "executionInfo": {
     "elapsed": 643750,
     "status": "ok",
     "timestamp": 1670572826980,
     "user": {
      "displayName": "서완석",
      "userId": "10694020963776158375"
     },
     "user_tz": -540
    },
    "id": "hP-8q6PVRSNY",
    "outputId": "4d38a810-0fd4-4792-b94d-54443a936ec8"
   },
   "outputs": [],
   "source": [
    "# xgboost\n",
    "import xgboost as xgb\n",
    "xgb_clf = xgb.XGBClassifier(objective='multi:softmax')\n",
    "xgb_clf.fit(X_train,y_train)\n",
    "\n",
    "# Accuracy\n",
    "xgb_clf_acc = accuracy_score(y_test, xgb_clf.predict(X_test))\n",
    "\n",
    "\n",
    "# 실제 데이터 test\n",
    "xgb_clf_real_50 = accuracy_score(y_test_set_50, xgb_clf.predict(X_test_set_50))\n",
    "xgb_clf_real_60 = accuracy_score(y_test_set_60, xgb_clf.predict(X_test_set_60))\n",
    "xgb_clf_real_70 = accuracy_score(y_test_set_70, xgb_clf.predict(X_test_set_70))\n",
    "xgb_clf_real_80 = accuracy_score(y_test_set_80, xgb_clf.predict(X_test_set_80))\n",
    "xgb_clf_real_90 = accuracy_score(y_test_set_90, xgb_clf.predict(X_test_set_90))\n",
    "xgb_clf_real_100 = accuracy_score(y_test_set_100, xgb_clf.predict(X_test_set_100))\n",
    "\n",
    "#confusion_matrix\n",
    "xgb_cm = confusion_matrix(y_test, xgb_clf.predict(X_test))\n",
    "plot_confusion_matrix(xgb_clf, X_test, y_test, cmap='OrRd')\n",
    "print(f\"Classification Report :- \\n {classification_report(y_test, xgb_clf.predict(X_test))}\")\n",
    "print(\"정확도 : \", xgb_clf_acc)\n",
    "print(\"실제 test_set_50 정확도 : \", xgb_clf_real_50)\n",
    "print(\"실제 test_set_60 정확도 : \", xgb_clf_real_60)\n",
    "print(\"실제 test_set_70 정확도 : \", xgb_clf_real_70)\n",
    "print(\"실제 test_set_80 정확도 : \", xgb_clf_real_80)\n",
    "print(\"실제 test_set_90 정확도 : \", xgb_clf_real_90)\n",
    "print(\"실제 test_set_100 정확도 : \", xgb_clf_real_100)"
   ]
  },
  {
   "cell_type": "code",
   "execution_count": null,
   "metadata": {
    "colab": {
     "base_uri": "https://localhost:8080/",
     "height": 238
    },
    "executionInfo": {
     "elapsed": 460,
     "status": "ok",
     "timestamp": 1670573569477,
     "user": {
      "displayName": "서완석",
      "userId": "10694020963776158375"
     },
     "user_tz": -540
    },
    "id": "vYoXsxYFRhio",
    "outputId": "5aeb72b4-d9bf-40e5-bf67-b9beaf9a0442"
   },
   "outputs": [],
   "source": [
    "models = pd.DataFrame({\n",
    "    'Model' : ['XGboost', 'LightGBM', 'Bagging', 'Random Forest', 'Decision Tree', 'GaussianNB',],\n",
    "    'Score' : [xgb_clf_acc, lgbm_acc, bagging_clf_acc, rd_clf_acc, dt_clf_acc, gnb_clf_acc],\n",
    "    'Score_50' : [xgb_clf_real_50, lgbm_clf_real_50,bagging_clf_real_50, rd_clf_real_50, dt_clf_real_50, gnb_clf_real_50],\n",
    "    'Score_60' : [xgb_clf_real_60, lgbm_clf_real_60,bagging_clf_real_60, rd_clf_real_60, dt_clf_real_60, gnb_clf_real_60],\n",
    "    'Score_70' : [xgb_clf_real_70, lgbm_clf_real_70,bagging_clf_real_70, rd_clf_real_70, dt_clf_real_70, gnb_clf_real_70],\n",
    "    'Score_80' : [xgb_clf_real_80, lgbm_clf_real_80,bagging_clf_real_80, rd_clf_real_80, dt_clf_real_80, gnb_clf_real_80],\n",
    "    'Score_90' : [xgb_clf_real_90, lgbm_clf_real_90,bagging_clf_real_90, rd_clf_real_90, dt_clf_real_90, gnb_clf_real_90],\n",
    "    'Score_100' : [xgb_clf_real_100, lgbm_clf_real_100,bagging_clf_real_100, rd_clf_real_100, dt_clf_real_100, gnb_clf_real_100]\n",
    "})\n",
    "\n",
    "models.sort_values(by = 'Score', ascending = False)"
   ]
  },
  {
   "cell_type": "code",
   "execution_count": null,
   "metadata": {
    "colab": {
     "base_uri": "https://localhost:8080/",
     "height": 542
    },
    "executionInfo": {
     "elapsed": 2004,
     "status": "ok",
     "timestamp": 1670573583086,
     "user": {
      "displayName": "서완석",
      "userId": "10694020963776158375"
     },
     "user_tz": -540
    },
    "id": "QUiUFIR_RnlX",
    "outputId": "da73d13e-c398-46b3-bc35-ec49b3e264f9"
   },
   "outputs": [],
   "source": [
    "px.bar(data_frame = models, x = 'Score', y = 'Model', color = 'Model', template = 'plotly_dark', title = 'Models Comparison')"
   ]
  },
  {
   "cell_type": "code",
   "execution_count": null,
   "metadata": {
    "id": "J0BOf9maSleA"
   },
   "outputs": [],
   "source": [
    "px.bar(data_frame = models, x = 'Score_50', y = 'Model', color = 'Model', template = 'plotly_dark', title = 'Models Comparison_50')"
   ]
  },
  {
   "cell_type": "code",
   "execution_count": null,
   "metadata": {},
   "outputs": [],
   "source": [
    "px.bar(data_frame = models, x = 'Score_60', y = 'Model', color = 'Model', template = 'plotly_dark', title = 'Models Comparison_60')"
   ]
  },
  {
   "cell_type": "code",
   "execution_count": null,
   "metadata": {},
   "outputs": [],
   "source": [
    "px.bar(data_frame = models, x = 'Score_70', y = 'Model', color = 'Model', template = 'plotly_dark', title = 'Models Comparison_70')"
   ]
  },
  {
   "cell_type": "code",
   "execution_count": null,
   "metadata": {},
   "outputs": [],
   "source": [
    "px.bar(data_frame = models, x = 'Score_80', y = 'Model', color = 'Model', template = 'plotly_dark', title = 'Models Comparison_80')"
   ]
  },
  {
   "cell_type": "code",
   "execution_count": null,
   "metadata": {},
   "outputs": [],
   "source": [
    "px.bar(data_frame = models, x = 'Score_90', y = 'Model', color = 'Model', template = 'plotly_dark', title = 'Models Comparison_90')"
   ]
  },
  {
   "cell_type": "code",
   "execution_count": null,
   "metadata": {},
   "outputs": [],
   "source": [
    "px.bar(data_frame = models, x = 'Score_100', y = 'Model', color = 'Model', template = 'plotly_dark', title = 'Models Comparison_100')"
   ]
  },
  {
   "cell_type": "code",
   "execution_count": 7,
   "metadata": {},
   "outputs": [
    {
     "name": "stdout",
     "output_type": "stream",
     "text": [
      "[1]\ttraining's multi_logloss: 1.46913\tvalid_1's multi_logloss: 1.47332\n",
      "[2]\ttraining's multi_logloss: 1.3508\tvalid_1's multi_logloss: 1.35929\n",
      "[3]\ttraining's multi_logloss: 1.2496\tvalid_1's multi_logloss: 1.26157\n",
      "[4]\ttraining's multi_logloss: 1.16157\tvalid_1's multi_logloss: 1.17667\n",
      "[5]\ttraining's multi_logloss: 1.08266\tvalid_1's multi_logloss: 1.10089\n",
      "[6]\ttraining's multi_logloss: 1.0113\tvalid_1's multi_logloss: 1.03312\n",
      "[7]\ttraining's multi_logloss: 0.945986\tvalid_1's multi_logloss: 0.970138\n",
      "[8]\ttraining's multi_logloss: 0.886419\tvalid_1's multi_logloss: 0.912307\n",
      "[9]\ttraining's multi_logloss: 0.832986\tvalid_1's multi_logloss: 0.860826\n",
      "[10]\ttraining's multi_logloss: 0.783867\tvalid_1's multi_logloss: 0.813056\n",
      "[11]\ttraining's multi_logloss: 0.739197\tvalid_1's multi_logloss: 0.769969\n",
      "[12]\ttraining's multi_logloss: 0.697397\tvalid_1's multi_logloss: 0.730144\n",
      "[13]\ttraining's multi_logloss: 0.659063\tvalid_1's multi_logloss: 0.693263\n",
      "[14]\ttraining's multi_logloss: 0.623779\tvalid_1's multi_logloss: 0.659416\n",
      "[15]\ttraining's multi_logloss: 0.591161\tvalid_1's multi_logloss: 0.627892\n",
      "[16]\ttraining's multi_logloss: 0.561424\tvalid_1's multi_logloss: 0.59967\n",
      "[17]\ttraining's multi_logloss: 0.533276\tvalid_1's multi_logloss: 0.57281\n",
      "[18]\ttraining's multi_logloss: 0.507118\tvalid_1's multi_logloss: 0.548039\n",
      "[19]\ttraining's multi_logloss: 0.48292\tvalid_1's multi_logloss: 0.524927\n",
      "[20]\ttraining's multi_logloss: 0.459367\tvalid_1's multi_logloss: 0.502781\n",
      "[21]\ttraining's multi_logloss: 0.437672\tvalid_1's multi_logloss: 0.482597\n",
      "[22]\ttraining's multi_logloss: 0.416778\tvalid_1's multi_logloss: 0.46278\n",
      "[23]\ttraining's multi_logloss: 0.397804\tvalid_1's multi_logloss: 0.44458\n",
      "[24]\ttraining's multi_logloss: 0.379826\tvalid_1's multi_logloss: 0.427885\n",
      "[25]\ttraining's multi_logloss: 0.362882\tvalid_1's multi_logloss: 0.412347\n",
      "[26]\ttraining's multi_logloss: 0.347052\tvalid_1's multi_logloss: 0.398154\n",
      "[27]\ttraining's multi_logloss: 0.332215\tvalid_1's multi_logloss: 0.384174\n",
      "[28]\ttraining's multi_logloss: 0.317994\tvalid_1's multi_logloss: 0.371079\n",
      "[29]\ttraining's multi_logloss: 0.30416\tvalid_1's multi_logloss: 0.358287\n",
      "[30]\ttraining's multi_logloss: 0.291021\tvalid_1's multi_logloss: 0.345679\n",
      "[31]\ttraining's multi_logloss: 0.278613\tvalid_1's multi_logloss: 0.334219\n",
      "[32]\ttraining's multi_logloss: 0.266993\tvalid_1's multi_logloss: 0.323651\n",
      "[33]\ttraining's multi_logloss: 0.255937\tvalid_1's multi_logloss: 0.313183\n",
      "[34]\ttraining's multi_logloss: 0.245417\tvalid_1's multi_logloss: 0.303824\n",
      "[35]\ttraining's multi_logloss: 0.235657\tvalid_1's multi_logloss: 0.294893\n",
      "[36]\ttraining's multi_logloss: 0.226263\tvalid_1's multi_logloss: 0.28625\n",
      "[37]\ttraining's multi_logloss: 0.217186\tvalid_1's multi_logloss: 0.277964\n",
      "[38]\ttraining's multi_logloss: 0.208507\tvalid_1's multi_logloss: 0.270158\n",
      "[39]\ttraining's multi_logloss: 0.200278\tvalid_1's multi_logloss: 0.262771\n",
      "[40]\ttraining's multi_logloss: 0.192423\tvalid_1's multi_logloss: 0.255389\n",
      "[41]\ttraining's multi_logloss: 0.184882\tvalid_1's multi_logloss: 0.248416\n",
      "[42]\ttraining's multi_logloss: 0.177837\tvalid_1's multi_logloss: 0.242242\n",
      "[43]\ttraining's multi_logloss: 0.171269\tvalid_1's multi_logloss: 0.236692\n",
      "[44]\ttraining's multi_logloss: 0.164991\tvalid_1's multi_logloss: 0.231242\n",
      "[45]\ttraining's multi_logloss: 0.15889\tvalid_1's multi_logloss: 0.22558\n",
      "[46]\ttraining's multi_logloss: 0.153129\tvalid_1's multi_logloss: 0.22024\n",
      "[47]\ttraining's multi_logloss: 0.147695\tvalid_1's multi_logloss: 0.215281\n",
      "[48]\ttraining's multi_logloss: 0.142463\tvalid_1's multi_logloss: 0.210431\n",
      "[49]\ttraining's multi_logloss: 0.137462\tvalid_1's multi_logloss: 0.206131\n",
      "[50]\ttraining's multi_logloss: 0.132731\tvalid_1's multi_logloss: 0.201984\n",
      "[51]\ttraining's multi_logloss: 0.128124\tvalid_1's multi_logloss: 0.197869\n",
      "[52]\ttraining's multi_logloss: 0.123692\tvalid_1's multi_logloss: 0.193568\n",
      "[53]\ttraining's multi_logloss: 0.119465\tvalid_1's multi_logloss: 0.189905\n",
      "[54]\ttraining's multi_logloss: 0.115441\tvalid_1's multi_logloss: 0.186195\n",
      "[55]\ttraining's multi_logloss: 0.111491\tvalid_1's multi_logloss: 0.182551\n",
      "[56]\ttraining's multi_logloss: 0.107734\tvalid_1's multi_logloss: 0.179044\n",
      "[57]\ttraining's multi_logloss: 0.104148\tvalid_1's multi_logloss: 0.175657\n",
      "[58]\ttraining's multi_logloss: 0.100863\tvalid_1's multi_logloss: 0.172803\n",
      "[59]\ttraining's multi_logloss: 0.0975544\tvalid_1's multi_logloss: 0.169819\n",
      "[60]\ttraining's multi_logloss: 0.094324\tvalid_1's multi_logloss: 0.16671\n",
      "[61]\ttraining's multi_logloss: 0.0913192\tvalid_1's multi_logloss: 0.16389\n",
      "[62]\ttraining's multi_logloss: 0.0883565\tvalid_1's multi_logloss: 0.161173\n",
      "[63]\ttraining's multi_logloss: 0.0855074\tvalid_1's multi_logloss: 0.158622\n",
      "[64]\ttraining's multi_logloss: 0.0827196\tvalid_1's multi_logloss: 0.15613\n",
      "[65]\ttraining's multi_logloss: 0.0801816\tvalid_1's multi_logloss: 0.154081\n",
      "[66]\ttraining's multi_logloss: 0.0776718\tvalid_1's multi_logloss: 0.151932\n",
      "[67]\ttraining's multi_logloss: 0.0751288\tvalid_1's multi_logloss: 0.149534\n",
      "[68]\ttraining's multi_logloss: 0.0728991\tvalid_1's multi_logloss: 0.147456\n",
      "[69]\ttraining's multi_logloss: 0.0706212\tvalid_1's multi_logloss: 0.145398\n",
      "[70]\ttraining's multi_logloss: 0.0684975\tvalid_1's multi_logloss: 0.143512\n",
      "[71]\ttraining's multi_logloss: 0.0662714\tvalid_1's multi_logloss: 0.1412\n",
      "[72]\ttraining's multi_logloss: 0.0642022\tvalid_1's multi_logloss: 0.139263\n",
      "[73]\ttraining's multi_logloss: 0.0622271\tvalid_1's multi_logloss: 0.1375\n",
      "[74]\ttraining's multi_logloss: 0.0603794\tvalid_1's multi_logloss: 0.135907\n",
      "[75]\ttraining's multi_logloss: 0.0584707\tvalid_1's multi_logloss: 0.134062\n",
      "[76]\ttraining's multi_logloss: 0.0568867\tvalid_1's multi_logloss: 0.132691\n",
      "[77]\ttraining's multi_logloss: 0.0551489\tvalid_1's multi_logloss: 0.130996\n",
      "[78]\ttraining's multi_logloss: 0.0535079\tvalid_1's multi_logloss: 0.129474\n",
      "[79]\ttraining's multi_logloss: 0.0518435\tvalid_1's multi_logloss: 0.127638\n",
      "[80]\ttraining's multi_logloss: 0.0503289\tvalid_1's multi_logloss: 0.126124\n",
      "[81]\ttraining's multi_logloss: 0.0488351\tvalid_1's multi_logloss: 0.124844\n",
      "[82]\ttraining's multi_logloss: 0.0473538\tvalid_1's multi_logloss: 0.123426\n",
      "[83]\ttraining's multi_logloss: 0.0459946\tvalid_1's multi_logloss: 0.122493\n",
      "[84]\ttraining's multi_logloss: 0.0447095\tvalid_1's multi_logloss: 0.121344\n",
      "[85]\ttraining's multi_logloss: 0.04348\tvalid_1's multi_logloss: 0.12027\n",
      "[86]\ttraining's multi_logloss: 0.042265\tvalid_1's multi_logloss: 0.119248\n",
      "[87]\ttraining's multi_logloss: 0.0410975\tvalid_1's multi_logloss: 0.117957\n",
      "[88]\ttraining's multi_logloss: 0.0399886\tvalid_1's multi_logloss: 0.116944\n",
      "[89]\ttraining's multi_logloss: 0.0388201\tvalid_1's multi_logloss: 0.115765\n",
      "[90]\ttraining's multi_logloss: 0.0377211\tvalid_1's multi_logloss: 0.114728\n",
      "[91]\ttraining's multi_logloss: 0.0367078\tvalid_1's multi_logloss: 0.113597\n",
      "[92]\ttraining's multi_logloss: 0.0356763\tvalid_1's multi_logloss: 0.112654\n",
      "[93]\ttraining's multi_logloss: 0.0347216\tvalid_1's multi_logloss: 0.111855\n",
      "[94]\ttraining's multi_logloss: 0.0337313\tvalid_1's multi_logloss: 0.110958\n",
      "[95]\ttraining's multi_logloss: 0.0328463\tvalid_1's multi_logloss: 0.110257\n",
      "[96]\ttraining's multi_logloss: 0.0319481\tvalid_1's multi_logloss: 0.109504\n",
      "[97]\ttraining's multi_logloss: 0.0310701\tvalid_1's multi_logloss: 0.108647\n",
      "[98]\ttraining's multi_logloss: 0.0302141\tvalid_1's multi_logloss: 0.108011\n",
      "[99]\ttraining's multi_logloss: 0.0293923\tvalid_1's multi_logloss: 0.107176\n",
      "[100]\ttraining's multi_logloss: 0.0286117\tvalid_1's multi_logloss: 0.106535\n",
      "[101]\ttraining's multi_logloss: 0.0278545\tvalid_1's multi_logloss: 0.105664\n",
      "[102]\ttraining's multi_logloss: 0.0271078\tvalid_1's multi_logloss: 0.105173\n",
      "[103]\ttraining's multi_logloss: 0.0263536\tvalid_1's multi_logloss: 0.104629\n",
      "[104]\ttraining's multi_logloss: 0.0256257\tvalid_1's multi_logloss: 0.103974\n",
      "[105]\ttraining's multi_logloss: 0.0249531\tvalid_1's multi_logloss: 0.103474\n",
      "[106]\ttraining's multi_logloss: 0.0243042\tvalid_1's multi_logloss: 0.10299\n",
      "[107]\ttraining's multi_logloss: 0.0237034\tvalid_1's multi_logloss: 0.102696\n",
      "[108]\ttraining's multi_logloss: 0.0230785\tvalid_1's multi_logloss: 0.101976\n",
      "[109]\ttraining's multi_logloss: 0.0224998\tvalid_1's multi_logloss: 0.101512\n",
      "[110]\ttraining's multi_logloss: 0.0218969\tvalid_1's multi_logloss: 0.100925\n",
      "[111]\ttraining's multi_logloss: 0.0213366\tvalid_1's multi_logloss: 0.100156\n"
     ]
    },
    {
     "name": "stdout",
     "output_type": "stream",
     "text": [
      "[112]\ttraining's multi_logloss: 0.0207972\tvalid_1's multi_logloss: 0.0995592\n",
      "[113]\ttraining's multi_logloss: 0.0203042\tvalid_1's multi_logloss: 0.0990964\n",
      "[114]\ttraining's multi_logloss: 0.0197738\tvalid_1's multi_logloss: 0.0983007\n",
      "[115]\ttraining's multi_logloss: 0.0192936\tvalid_1's multi_logloss: 0.0979059\n",
      "[116]\ttraining's multi_logloss: 0.0188083\tvalid_1's multi_logloss: 0.0977528\n",
      "[117]\ttraining's multi_logloss: 0.0183281\tvalid_1's multi_logloss: 0.0973234\n",
      "[118]\ttraining's multi_logloss: 0.0178501\tvalid_1's multi_logloss: 0.0968718\n",
      "[119]\ttraining's multi_logloss: 0.0173958\tvalid_1's multi_logloss: 0.0963523\n",
      "[120]\ttraining's multi_logloss: 0.0169669\tvalid_1's multi_logloss: 0.0959913\n",
      "[121]\ttraining's multi_logloss: 0.0165228\tvalid_1's multi_logloss: 0.0955007\n",
      "[122]\ttraining's multi_logloss: 0.0161523\tvalid_1's multi_logloss: 0.0953708\n",
      "[123]\ttraining's multi_logloss: 0.0157576\tvalid_1's multi_logloss: 0.0951573\n",
      "[124]\ttraining's multi_logloss: 0.0153577\tvalid_1's multi_logloss: 0.0944799\n",
      "[125]\ttraining's multi_logloss: 0.014974\tvalid_1's multi_logloss: 0.0941441\n",
      "[126]\ttraining's multi_logloss: 0.0146092\tvalid_1's multi_logloss: 0.0936905\n",
      "[127]\ttraining's multi_logloss: 0.0142265\tvalid_1's multi_logloss: 0.0932185\n",
      "[128]\ttraining's multi_logloss: 0.0138781\tvalid_1's multi_logloss: 0.0928684\n",
      "[129]\ttraining's multi_logloss: 0.0135653\tvalid_1's multi_logloss: 0.092441\n",
      "[130]\ttraining's multi_logloss: 0.0132022\tvalid_1's multi_logloss: 0.092095\n",
      "[131]\ttraining's multi_logloss: 0.0128513\tvalid_1's multi_logloss: 0.0917362\n",
      "[132]\ttraining's multi_logloss: 0.0125199\tvalid_1's multi_logloss: 0.0914234\n",
      "[133]\ttraining's multi_logloss: 0.0122031\tvalid_1's multi_logloss: 0.0910195\n",
      "[134]\ttraining's multi_logloss: 0.0119042\tvalid_1's multi_logloss: 0.0907093\n",
      "[135]\ttraining's multi_logloss: 0.0116084\tvalid_1's multi_logloss: 0.0906833\n",
      "[136]\ttraining's multi_logloss: 0.0113099\tvalid_1's multi_logloss: 0.0904345\n",
      "[137]\ttraining's multi_logloss: 0.0110315\tvalid_1's multi_logloss: 0.0902492\n",
      "[138]\ttraining's multi_logloss: 0.0107476\tvalid_1's multi_logloss: 0.0899851\n",
      "[139]\ttraining's multi_logloss: 0.0104858\tvalid_1's multi_logloss: 0.0898647\n",
      "[140]\ttraining's multi_logloss: 0.0102217\tvalid_1's multi_logloss: 0.0896556\n",
      "[141]\ttraining's multi_logloss: 0.00997169\tvalid_1's multi_logloss: 0.089325\n",
      "[142]\ttraining's multi_logloss: 0.00972772\tvalid_1's multi_logloss: 0.0890745\n",
      "[143]\ttraining's multi_logloss: 0.00949242\tvalid_1's multi_logloss: 0.0887932\n",
      "[144]\ttraining's multi_logloss: 0.00927409\tvalid_1's multi_logloss: 0.0884497\n",
      "[145]\ttraining's multi_logloss: 0.00905383\tvalid_1's multi_logloss: 0.0881796\n",
      "[146]\ttraining's multi_logloss: 0.00883771\tvalid_1's multi_logloss: 0.0879113\n",
      "[147]\ttraining's multi_logloss: 0.00863125\tvalid_1's multi_logloss: 0.0878266\n",
      "[148]\ttraining's multi_logloss: 0.00843326\tvalid_1's multi_logloss: 0.0875483\n",
      "[149]\ttraining's multi_logloss: 0.00822029\tvalid_1's multi_logloss: 0.087345\n",
      "[150]\ttraining's multi_logloss: 0.00801386\tvalid_1's multi_logloss: 0.0872578\n",
      "[151]\ttraining's multi_logloss: 0.00781993\tvalid_1's multi_logloss: 0.0869987\n",
      "[152]\ttraining's multi_logloss: 0.00762477\tvalid_1's multi_logloss: 0.087104\n",
      "[153]\ttraining's multi_logloss: 0.00743517\tvalid_1's multi_logloss: 0.0868035\n",
      "[154]\ttraining's multi_logloss: 0.0072552\tvalid_1's multi_logloss: 0.0865384\n",
      "[155]\ttraining's multi_logloss: 0.00707999\tvalid_1's multi_logloss: 0.086485\n",
      "[156]\ttraining's multi_logloss: 0.00691862\tvalid_1's multi_logloss: 0.0862255\n",
      "[157]\ttraining's multi_logloss: 0.00674234\tvalid_1's multi_logloss: 0.0859807\n",
      "[158]\ttraining's multi_logloss: 0.00657916\tvalid_1's multi_logloss: 0.0858745\n",
      "[159]\ttraining's multi_logloss: 0.00642307\tvalid_1's multi_logloss: 0.0857551\n",
      "[160]\ttraining's multi_logloss: 0.00626261\tvalid_1's multi_logloss: 0.0857194\n",
      "[161]\ttraining's multi_logloss: 0.00610472\tvalid_1's multi_logloss: 0.0855895\n",
      "[162]\ttraining's multi_logloss: 0.00596182\tvalid_1's multi_logloss: 0.085514\n",
      "[163]\ttraining's multi_logloss: 0.00581577\tvalid_1's multi_logloss: 0.0854745\n",
      "[164]\ttraining's multi_logloss: 0.00567597\tvalid_1's multi_logloss: 0.0854576\n",
      "[165]\ttraining's multi_logloss: 0.00554161\tvalid_1's multi_logloss: 0.0853702\n",
      "[166]\ttraining's multi_logloss: 0.0054131\tvalid_1's multi_logloss: 0.0853907\n",
      "[167]\ttraining's multi_logloss: 0.00528229\tvalid_1's multi_logloss: 0.0852754\n",
      "[168]\ttraining's multi_logloss: 0.00516522\tvalid_1's multi_logloss: 0.085122\n",
      "[169]\ttraining's multi_logloss: 0.00504408\tvalid_1's multi_logloss: 0.0850946\n",
      "[170]\ttraining's multi_logloss: 0.00492692\tvalid_1's multi_logloss: 0.0849625\n",
      "[171]\ttraining's multi_logloss: 0.0048108\tvalid_1's multi_logloss: 0.0848284\n",
      "[172]\ttraining's multi_logloss: 0.00469332\tvalid_1's multi_logloss: 0.0846749\n",
      "[173]\ttraining's multi_logloss: 0.00457923\tvalid_1's multi_logloss: 0.0845174\n",
      "[174]\ttraining's multi_logloss: 0.00446767\tvalid_1's multi_logloss: 0.0845377\n",
      "[175]\ttraining's multi_logloss: 0.0043618\tvalid_1's multi_logloss: 0.0843914\n",
      "[176]\ttraining's multi_logloss: 0.00425648\tvalid_1's multi_logloss: 0.0843268\n",
      "[177]\ttraining's multi_logloss: 0.0041566\tvalid_1's multi_logloss: 0.0842597\n",
      "[178]\ttraining's multi_logloss: 0.00405787\tvalid_1's multi_logloss: 0.0840835\n",
      "[179]\ttraining's multi_logloss: 0.00395696\tvalid_1's multi_logloss: 0.0839316\n",
      "[180]\ttraining's multi_logloss: 0.00386522\tvalid_1's multi_logloss: 0.0839089\n",
      "[181]\ttraining's multi_logloss: 0.00377325\tvalid_1's multi_logloss: 0.0838663\n",
      "[182]\ttraining's multi_logloss: 0.00368707\tvalid_1's multi_logloss: 0.0838514\n",
      "[183]\ttraining's multi_logloss: 0.00360875\tvalid_1's multi_logloss: 0.0836929\n",
      "[184]\ttraining's multi_logloss: 0.0035172\tvalid_1's multi_logloss: 0.0835128\n",
      "[185]\ttraining's multi_logloss: 0.00343278\tvalid_1's multi_logloss: 0.0834826\n",
      "[186]\ttraining's multi_logloss: 0.00335298\tvalid_1's multi_logloss: 0.0833665\n",
      "[187]\ttraining's multi_logloss: 0.00327128\tvalid_1's multi_logloss: 0.0833913\n",
      "[188]\ttraining's multi_logloss: 0.00319742\tvalid_1's multi_logloss: 0.0834704\n",
      "[189]\ttraining's multi_logloss: 0.00312496\tvalid_1's multi_logloss: 0.0832288\n",
      "[190]\ttraining's multi_logloss: 0.00305384\tvalid_1's multi_logloss: 0.0830631\n",
      "[191]\ttraining's multi_logloss: 0.00298295\tvalid_1's multi_logloss: 0.0829871\n",
      "[192]\ttraining's multi_logloss: 0.00291479\tvalid_1's multi_logloss: 0.0828582\n",
      "[193]\ttraining's multi_logloss: 0.0028475\tvalid_1's multi_logloss: 0.0830888\n",
      "[194]\ttraining's multi_logloss: 0.00277805\tvalid_1's multi_logloss: 0.0831725\n",
      "[195]\ttraining's multi_logloss: 0.00270899\tvalid_1's multi_logloss: 0.0831401\n",
      "[196]\ttraining's multi_logloss: 0.00264564\tvalid_1's multi_logloss: 0.0830954\n",
      "[197]\ttraining's multi_logloss: 0.00258295\tvalid_1's multi_logloss: 0.0830668\n",
      "[198]\ttraining's multi_logloss: 0.00252619\tvalid_1's multi_logloss: 0.0830656\n",
      "[199]\ttraining's multi_logloss: 0.0024644\tvalid_1's multi_logloss: 0.0830316\n",
      "[200]\ttraining's multi_logloss: 0.00240791\tvalid_1's multi_logloss: 0.0830476\n",
      "[201]\ttraining's multi_logloss: 0.00235221\tvalid_1's multi_logloss: 0.0831503\n",
      "[202]\ttraining's multi_logloss: 0.00229517\tvalid_1's multi_logloss: 0.0831499\n"
     ]
    },
    {
     "name": "stderr",
     "output_type": "stream",
     "text": [
      "C:\\Users\\user\\anaconda3\\lib\\site-packages\\sklearn\\utils\\deprecation.py:87: FutureWarning: Function plot_confusion_matrix is deprecated; Function `plot_confusion_matrix` is deprecated in 1.0 and will be removed in 1.2. Use one of the class methods: ConfusionMatrixDisplay.from_predictions or ConfusionMatrixDisplay.from_estimator.\n",
      "  warnings.warn(msg, category=FutureWarning)\n"
     ]
    },
    {
     "name": "stdout",
     "output_type": "stream",
     "text": [
      "Classification Report :- \n",
      "               precision    recall  f1-score   support\n",
      "\n",
      "           0       0.99      0.91      0.95       482\n",
      "           1       0.98      0.99      0.98       483\n",
      "           2       0.95      0.99      0.97       480\n",
      "           3       0.97      0.98      0.98       468\n",
      "           4       0.97      0.99      0.98       486\n",
      "\n",
      "    accuracy                           0.97      2399\n",
      "   macro avg       0.97      0.97      0.97      2399\n",
      "weighted avg       0.97      0.97      0.97      2399\n",
      "\n",
      "정확도 :  0.9733222175906627\n",
      "실제 test_set_50 정확도 :  0.5882352941176471\n",
      "실제 test_set_60 정확도 :  0.7058823529411765\n",
      "실제 test_set_70 정확도 :  0.6862745098039216\n",
      "실제 test_set_80 정확도 :  0.7450980392156863\n",
      "실제 test_set_90 정확도 :  0.7450980392156863\n",
      "실제 test_set_100 정확도 :  0.6666666666666666\n"
     ]
    },
    {
     "data": {
      "image/png": "[encoded data removed]",
      "text/plain": [
       "<Figure size 640x480 with 2 Axes>"
      ]
     },
     "metadata": {},
     "output_type": "display_data"
    }
   ],
   "source": [
    "lgbm_clf2 = LGBMClassifier(boosting_type='gbdt',max_depth=-1,min_child_samples=20,learning_rate=0.05,\n",
    "                           n_estimators=500,objective='multiclass',num_class=5,random_state=42,\n",
    "                           early_stopping_round = 10,verbose=-1,)\n",
    "\n",
    "lgbm_clf2.fit(X_train, y_train,eval_set=[(X_train, y_train),(X_test, y_test)],\n",
    "    eval_metric='multiclass')\n",
    "\n",
    "lgbm_acc2 = accuracy_score(y_test, lgbm_clf2.predict(X_test)) \n",
    "\n",
    "\n",
    "# 실제 데이터 test\n",
    "lgbm_clf2_real_50 = accuracy_score(y_test_set_50, lgbm_clf2.predict(X_test_set_50))\n",
    "lgbm_clf2_real_60 = accuracy_score(y_test_set_60, lgbm_clf2.predict(X_test_set_60))\n",
    "lgbm_clf2_real_70 = accuracy_score(y_test_set_70, lgbm_clf2.predict(X_test_set_70))\n",
    "lgbm_clf2_real_80 = accuracy_score(y_test_set_80, lgbm_clf2.predict(X_test_set_80))\n",
    "lgbm_clf2_real_90 = accuracy_score(y_test_set_90, lgbm_clf2.predict(X_test_set_90))\n",
    "lgbm_clf2_real_100 = accuracy_score(y_test_set_100, lgbm_clf2.predict(X_test_set_100))\n",
    "\n",
    "#confusion_matrix\n",
    "lgbm2_cm = confusion_matrix(y_test, lgbm_clf2.predict(X_test))\n",
    "plot_confusion_matrix(lgbm_clf2, X_test, y_test, cmap='OrRd')\n",
    "print(f\"Classification Report :- \\n {classification_report(y_test, lgbm_clf2.predict(X_test))}\")\n",
    "print(\"정확도 : \", lgbm_acc2)\n",
    "print(\"실제 test_set_50 정확도 : \", lgbm_clf2_real_50)\n",
    "print(\"실제 test_set_60 정확도 : \", lgbm_clf2_real_60)\n",
    "print(\"실제 test_set_70 정확도 : \", lgbm_clf2_real_70)\n",
    "print(\"실제 test_set_80 정확도 : \", lgbm_clf2_real_80)\n",
    "print(\"실제 test_set_90 정확도 : \", lgbm_clf2_real_90)\n",
    "print(\"실제 test_set_100 정확도 : \", lgbm_clf2_real_100)"
   ]
  },
  {
   "cell_type": "code",
   "execution_count": 13,
   "metadata": {},
   "outputs": [
    {
     "data": {
      "application/vnd.plotly.v1+json": {
       "config": {
        "plotlyServerURL": "https://plot.ly"
       },
       "data": [
        {
         "alignmentgroup": "True",
         "hovertemplate": "Model=%{x}<br>Score=%{marker.color}<extra></extra>",
         "legendgroup": "",
         "marker": {
          "color": [
           0.5882352941176471,
           0.7058823529411765,
           0.6862745098039216,
           0.7450980392156863,
           0.7450980392156863,
           0.6666666666666666
          ],
          "coloraxis": "coloraxis",
          "pattern": {
           "shape": ""
          }
         },
         "name": "",
         "offsetgroup": "",
         "orientation": "v",
         "showlegend": false,
         "textposition": "auto",
         "type": "bar",
         "x": [
          "50",
          "60",
          "70",
          "80",
          "90",
          "100"
         ],
         "xaxis": "x",
         "y": [
          0.5882352941176471,
          0.7058823529411765,
          0.6862745098039216,
          0.7450980392156863,
          0.7450980392156863,
          0.6666666666666666
         ],
         "yaxis": "y"
        }
       ],
       "layout": {
        "barmode": "relative",
        "coloraxis": {
         "colorbar": {
          "title": {
           "text": "Score"
          }
         },
         "colorscale": [
          [
           0,
           "#0d0887"
          ],
          [
           0.1111111111111111,
           "#46039f"
          ],
          [
           0.2222222222222222,
           "#7201a8"
          ],
          [
           0.3333333333333333,
           "#9c179e"
          ],
          [
           0.4444444444444444,
           "#bd3786"
          ],
          [
           0.5555555555555556,
           "#d8576b"
          ],
          [
           0.6666666666666666,
           "#ed7953"
          ],
          [
           0.7777777777777778,
           "#fb9f3a"
          ],
          [
           0.8888888888888888,
           "#fdca26"
          ],
          [
           1,
           "#f0f921"
          ]
         ]
        },
        "legend": {
         "tracegroupgap": 0
        },
        "template": {
         "data": {
          "bar": [
           {
            "error_x": {
             "color": "#f2f5fa"
            },
            "error_y": {
             "color": "#f2f5fa"
            },
            "marker": {
             "line": {
              "color": "rgb(17,17,17)",
              "width": 0.5
             },
             "pattern": {
              "fillmode": "overlay",
              "size": 10,
              "solidity": 0.2
             }
            },
            "type": "bar"
           }
          ],
          "barpolar": [
           {
            "marker": {
             "line": {
              "color": "rgb(17,17,17)",
              "width": 0.5
             },
             "pattern": {
              "fillmode": "overlay",
              "size": 10,
              "solidity": 0.2
             }
            },
            "type": "barpolar"
           }
          ],
          "carpet": [
           {
            "aaxis": {
             "endlinecolor": "#A2B1C6",
             "gridcolor": "#506784",
             "linecolor": "#506784",
             "minorgridcolor": "#506784",
             "startlinecolor": "#A2B1C6"
            },
            "baxis": {
             "endlinecolor": "#A2B1C6",
             "gridcolor": "#506784",
             "linecolor": "#506784",
             "minorgridcolor": "#506784",
             "startlinecolor": "#A2B1C6"
            },
            "type": "carpet"
           }
          ],
          "choropleth": [
           {
            "colorbar": {
             "outlinewidth": 0,
             "ticks": ""
            },
            "type": "choropleth"
           }
          ],
          "contour": [
           {
            "colorbar": {
             "outlinewidth": 0,
             "ticks": ""
            },
            "colorscale": [
             [
              0,
              "#0d0887"
             ],
             [
              0.1111111111111111,
              "#46039f"
             ],
             [
              0.2222222222222222,
              "#7201a8"
             ],
             [
              0.3333333333333333,
              "#9c179e"
             ],
             [
              0.4444444444444444,
              "#bd3786"
             ],
             [
              0.5555555555555556,
              "#d8576b"
             ],
             [
              0.6666666666666666,
              "#ed7953"
             ],
             [
              0.7777777777777778,
              "#fb9f3a"
             ],
             [
              0.8888888888888888,
              "#fdca26"
             ],
             [
              1,
              "#f0f921"
             ]
            ],
            "type": "contour"
           }
          ],
          "contourcarpet": [
           {
            "colorbar": {
             "outlinewidth": 0,
             "ticks": ""
            },
            "type": "contourcarpet"
           }
          ],
          "heatmap": [
           {
            "colorbar": {
             "outlinewidth": 0,
             "ticks": ""
            },
            "colorscale": [
             [
              0,
              "#0d0887"
             ],
             [
              0.1111111111111111,
              "#46039f"
             ],
             [
              0.2222222222222222,
              "#7201a8"
             ],
             [
              0.3333333333333333,
              "#9c179e"
             ],
             [
              0.4444444444444444,
              "#bd3786"
             ],
             [
              0.5555555555555556,
              "#d8576b"
             ],
             [
              0.6666666666666666,
              "#ed7953"
             ],
             [
              0.7777777777777778,
              "#fb9f3a"
             ],
             [
              0.8888888888888888,
              "#fdca26"
             ],
             [
              1,
              "#f0f921"
             ]
            ],
            "type": "heatmap"
           }
          ],
          "heatmapgl": [
           {
            "colorbar": {
             "outlinewidth": 0,
             "ticks": ""
            },
            "colorscale": [
             [
              0,
              "#0d0887"
             ],
             [
              0.1111111111111111,
              "#46039f"
             ],
             [
              0.2222222222222222,
              "#7201a8"
             ],
             [
              0.3333333333333333,
              "#9c179e"
             ],
             [
              0.4444444444444444,
              "#bd3786"
             ],
             [
              0.5555555555555556,
              "#d8576b"
             ],
             [
              0.6666666666666666,
              "#ed7953"
             ],
             [
              0.7777777777777778,
              "#fb9f3a"
             ],
             [
              0.8888888888888888,
              "#fdca26"
             ],
             [
              1,
              "#f0f921"
             ]
            ],
            "type": "heatmapgl"
           }
          ],
          "histogram": [
           {
            "marker": {
             "pattern": {
              "fillmode": "overlay",
              "size": 10,
              "solidity": 0.2
             }
            },
            "type": "histogram"
           }
          ],
          "histogram2d": [
           {
            "colorbar": {
             "outlinewidth": 0,
             "ticks": ""
            },
            "colorscale": [
             [
              0,
              "#0d0887"
             ],
             [
              0.1111111111111111,
              "#46039f"
             ],
             [
              0.2222222222222222,
              "#7201a8"
             ],
             [
              0.3333333333333333,
              "#9c179e"
             ],
             [
              0.4444444444444444,
              "#bd3786"
             ],
             [
              0.5555555555555556,
              "#d8576b"
             ],
             [
              0.6666666666666666,
              "#ed7953"
             ],
             [
              0.7777777777777778,
              "#fb9f3a"
             ],
             [
              0.8888888888888888,
              "#fdca26"
             ],
             [
              1,
              "#f0f921"
             ]
            ],
            "type": "histogram2d"
           }
          ],
          "histogram2dcontour": [
           {
            "colorbar": {
             "outlinewidth": 0,
             "ticks": ""
            },
            "colorscale": [
             [
              0,
              "#0d0887"
             ],
             [
              0.1111111111111111,
              "#46039f"
             ],
             [
              0.2222222222222222,
              "#7201a8"
             ],
             [
              0.3333333333333333,
              "#9c179e"
             ],
             [
              0.4444444444444444,
              "#bd3786"
             ],
             [
              0.5555555555555556,
              "#d8576b"
             ],
             [
              0.6666666666666666,
              "#ed7953"
             ],
             [
              0.7777777777777778,
              "#fb9f3a"
             ],
             [
              0.8888888888888888,
              "#fdca26"
             ],
             [
              1,
              "#f0f921"
             ]
            ],
            "type": "histogram2dcontour"
           }
          ],
          "mesh3d": [
           {
            "colorbar": {
             "outlinewidth": 0,
             "ticks": ""
            },
            "type": "mesh3d"
           }
          ],
          "parcoords": [
           {
            "line": {
             "colorbar": {
              "outlinewidth": 0,
              "ticks": ""
             }
            },
            "type": "parcoords"
           }
          ],
          "pie": [
           {
            "automargin": true,
            "type": "pie"
           }
          ],
          "scatter": [
           {
            "marker": {
             "line": {
              "color": "#283442"
             }
            },
            "type": "scatter"
           }
          ],
          "scatter3d": [
           {
            "line": {
             "colorbar": {
              "outlinewidth": 0,
              "ticks": ""
             }
            },
            "marker": {
             "colorbar": {
              "outlinewidth": 0,
              "ticks": ""
             }
            },
            "type": "scatter3d"
           }
          ],
          "scattercarpet": [
           {
            "marker": {
             "colorbar": {
              "outlinewidth": 0,
              "ticks": ""
             }
            },
            "type": "scattercarpet"
           }
          ],
          "scattergeo": [
           {
            "marker": {
             "colorbar": {
              "outlinewidth": 0,
              "ticks": ""
             }
            },
            "type": "scattergeo"
           }
          ],
          "scattergl": [
           {
            "marker": {
             "line": {
              "color": "#283442"
             }
            },
            "type": "scattergl"
           }
          ],
          "scattermapbox": [
           {
            "marker": {
             "colorbar": {
              "outlinewidth": 0,
              "ticks": ""
             }
            },
            "type": "scattermapbox"
           }
          ],
          "scatterpolar": [
           {
            "marker": {
             "colorbar": {
              "outlinewidth": 0,
              "ticks": ""
             }
            },
            "type": "scatterpolar"
           }
          ],
          "scatterpolargl": [
           {
            "marker": {
             "colorbar": {
              "outlinewidth": 0,
              "ticks": ""
             }
            },
            "type": "scatterpolargl"
           }
          ],
          "scatterternary": [
           {
            "marker": {
             "colorbar": {
              "outlinewidth": 0,
              "ticks": ""
             }
            },
            "type": "scatterternary"
           }
          ],
          "surface": [
           {
            "colorbar": {
             "outlinewidth": 0,
             "ticks": ""
            },
            "colorscale": [
             [
              0,
              "#0d0887"
             ],
             [
              0.1111111111111111,
              "#46039f"
             ],
             [
              0.2222222222222222,
              "#7201a8"
             ],
             [
              0.3333333333333333,
              "#9c179e"
             ],
             [
              0.4444444444444444,
              "#bd3786"
             ],
             [
              0.5555555555555556,
              "#d8576b"
             ],
             [
              0.6666666666666666,
              "#ed7953"
             ],
             [
              0.7777777777777778,
              "#fb9f3a"
             ],
             [
              0.8888888888888888,
              "#fdca26"
             ],
             [
              1,
              "#f0f921"
             ]
            ],
            "type": "surface"
           }
          ],
          "table": [
           {
            "cells": {
             "fill": {
              "color": "#506784"
             },
             "line": {
              "color": "rgb(17,17,17)"
             }
            },
            "header": {
             "fill": {
              "color": "#2a3f5f"
             },
             "line": {
              "color": "rgb(17,17,17)"
             }
            },
            "type": "table"
           }
          ]
         },
         "layout": {
          "annotationdefaults": {
           "arrowcolor": "#f2f5fa",
           "arrowhead": 0,
           "arrowwidth": 1
          },
          "autotypenumbers": "strict",
          "coloraxis": {
           "colorbar": {
            "outlinewidth": 0,
            "ticks": ""
           }
          },
          "colorscale": {
           "diverging": [
            [
             0,
             "#8e0152"
            ],
            [
             0.1,
             "#c51b7d"
            ],
            [
             0.2,
             "#de77ae"
            ],
            [
             0.3,
             "#f1b6da"
            ],
            [
             0.4,
             "#fde0ef"
            ],
            [
             0.5,
             "#f7f7f7"
            ],
            [
             0.6,
             "#e6f5d0"
            ],
            [
             0.7,
             "#b8e186"
            ],
            [
             0.8,
             "#7fbc41"
            ],
            [
             0.9,
             "#4d9221"
            ],
            [
             1,
             "#276419"
            ]
           ],
           "sequential": [
            [
             0,
             "#0d0887"
            ],
            [
             0.1111111111111111,
             "#46039f"
            ],
            [
             0.2222222222222222,
             "#7201a8"
            ],
            [
             0.3333333333333333,
             "#9c179e"
            ],
            [
             0.4444444444444444,
             "#bd3786"
            ],
            [
             0.5555555555555556,
             "#d8576b"
            ],
            [
             0.6666666666666666,
             "#ed7953"
            ],
            [
             0.7777777777777778,
             "#fb9f3a"
            ],
            [
             0.8888888888888888,
             "#fdca26"
            ],
            [
             1,
             "#f0f921"
            ]
           ],
           "sequentialminus": [
            [
             0,
             "#0d0887"
            ],
            [
             0.1111111111111111,
             "#46039f"
            ],
            [
             0.2222222222222222,
             "#7201a8"
            ],
            [
             0.3333333333333333,
             "#9c179e"
            ],
            [
             0.4444444444444444,
             "#bd3786"
            ],
            [
             0.5555555555555556,
             "#d8576b"
            ],
            [
             0.6666666666666666,
             "#ed7953"
            ],
            [
             0.7777777777777778,
             "#fb9f3a"
            ],
            [
             0.8888888888888888,
             "#fdca26"
            ],
            [
             1,
             "#f0f921"
            ]
           ]
          },
          "colorway": [
           "#636efa",
           "#EF553B",
           "#00cc96",
           "#ab63fa",
           "#FFA15A",
           "#19d3f3",
           "#FF6692",
           "#B6E880",
           "#FF97FF",
           "#FECB52"
          ],
          "font": {
           "color": "#f2f5fa"
          },
          "geo": {
           "bgcolor": "rgb(17,17,17)",
           "lakecolor": "rgb(17,17,17)",
           "landcolor": "rgb(17,17,17)",
           "showlakes": true,
           "showland": true,
           "subunitcolor": "#506784"
          },
          "hoverlabel": {
           "align": "left"
          },
          "hovermode": "closest",
          "mapbox": {
           "style": "dark"
          },
          "paper_bgcolor": "rgb(17,17,17)",
          "plot_bgcolor": "rgb(17,17,17)",
          "polar": {
           "angularaxis": {
            "gridcolor": "#506784",
            "linecolor": "#506784",
            "ticks": ""
           },
           "bgcolor": "rgb(17,17,17)",
           "radialaxis": {
            "gridcolor": "#506784",
            "linecolor": "#506784",
            "ticks": ""
           }
          },
          "scene": {
           "xaxis": {
            "backgroundcolor": "rgb(17,17,17)",
            "gridcolor": "#506784",
            "gridwidth": 2,
            "linecolor": "#506784",
            "showbackground": true,
            "ticks": "",
            "zerolinecolor": "#C8D4E3"
           },
           "yaxis": {
            "backgroundcolor": "rgb(17,17,17)",
            "gridcolor": "#506784",
            "gridwidth": 2,
            "linecolor": "#506784",
            "showbackground": true,
            "ticks": "",
            "zerolinecolor": "#C8D4E3"
           },
           "zaxis": {
            "backgroundcolor": "rgb(17,17,17)",
            "gridcolor": "#506784",
            "gridwidth": 2,
            "linecolor": "#506784",
            "showbackground": true,
            "ticks": "",
            "zerolinecolor": "#C8D4E3"
           }
          },
          "shapedefaults": {
           "line": {
            "color": "#f2f5fa"
           }
          },
          "sliderdefaults": {
           "bgcolor": "#C8D4E3",
           "bordercolor": "rgb(17,17,17)",
           "borderwidth": 1,
           "tickwidth": 0
          },
          "ternary": {
           "aaxis": {
            "gridcolor": "#506784",
            "linecolor": "#506784",
            "ticks": ""
           },
           "baxis": {
            "gridcolor": "#506784",
            "linecolor": "#506784",
            "ticks": ""
           },
           "bgcolor": "rgb(17,17,17)",
           "caxis": {
            "gridcolor": "#506784",
            "linecolor": "#506784",
            "ticks": ""
           }
          },
          "title": {
           "x": 0.05
          },
          "updatemenudefaults": {
           "bgcolor": "#506784",
           "borderwidth": 0
          },
          "xaxis": {
           "automargin": true,
           "gridcolor": "#283442",
           "linecolor": "#506784",
           "ticks": "",
           "title": {
            "standoff": 15
           },
           "zerolinecolor": "#283442",
           "zerolinewidth": 2
          },
          "yaxis": {
           "automargin": true,
           "gridcolor": "#283442",
           "linecolor": "#506784",
           "ticks": "",
           "title": {
            "standoff": 15
           },
           "zerolinecolor": "#283442",
           "zerolinewidth": 2
          }
         }
        },
        "title": {
         "text": "LGBM Model"
        },
        "xaxis": {
         "anchor": "y",
         "domain": [
          0,
          1
         ],
         "title": {
          "text": "Model"
         }
        },
        "yaxis": {
         "anchor": "x",
         "domain": [
          0,
          1
         ],
         "title": {
          "text": "Score"
         }
        }
       }
      },
      "text/html": [
       "<div>                            <div id=\"646813ee-702f-4335-90eb-b508465567e6\" class=\"plotly-graph-div\" style=\"height:525px; width:100%;\"></div>            <script type=\"text/javascript\">                require([\"plotly\"], function(Plotly) {                    window.PLOTLYENV=window.PLOTLYENV || {};                                    if (document.getElementById(\"646813ee-702f-4335-90eb-b508465567e6\")) {                    Plotly.newPlot(                        \"646813ee-702f-4335-90eb-b508465567e6\",                        [{\"alignmentgroup\":\"True\",\"hovertemplate\":\"Model=%{x}<br>Score=%{marker.color}<extra></extra>\",\"legendgroup\":\"\",\"marker\":{\"color\":[0.5882352941176471,0.7058823529411765,0.6862745098039216,0.7450980392156863,0.7450980392156863,0.6666666666666666],\"coloraxis\":\"coloraxis\",\"pattern\":{\"shape\":\"\"}},\"name\":\"\",\"offsetgroup\":\"\",\"orientation\":\"v\",\"showlegend\":false,\"textposition\":\"auto\",\"x\":[\"50\",\"60\",\"70\",\"80\",\"90\",\"100\"],\"xaxis\":\"x\",\"y\":[0.5882352941176471,0.7058823529411765,0.6862745098039216,0.7450980392156863,0.7450980392156863,0.6666666666666666],\"yaxis\":\"y\",\"type\":\"bar\"}],                        {\"template\":{\"data\":{\"barpolar\":[{\"marker\":{\"line\":{\"color\":\"rgb(17,17,17)\",\"width\":0.5},\"pattern\":{\"fillmode\":\"overlay\",\"size\":10,\"solidity\":0.2}},\"type\":\"barpolar\"}],\"bar\":[{\"error_x\":{\"color\":\"#f2f5fa\"},\"error_y\":{\"color\":\"#f2f5fa\"},\"marker\":{\"line\":{\"color\":\"rgb(17,17,17)\",\"width\":0.5},\"pattern\":{\"fillmode\":\"overlay\",\"size\":10,\"solidity\":0.2}},\"type\":\"bar\"}],\"carpet\":[{\"aaxis\":{\"endlinecolor\":\"#A2B1C6\",\"gridcolor\":\"#506784\",\"linecolor\":\"#506784\",\"minorgridcolor\":\"#506784\",\"startlinecolor\":\"#A2B1C6\"},\"baxis\":{\"endlinecolor\":\"#A2B1C6\",\"gridcolor\":\"#506784\",\"linecolor\":\"#506784\",\"minorgridcolor\":\"#506784\",\"startlinecolor\":\"#A2B1C6\"},\"type\":\"carpet\"}],\"choropleth\":[{\"colorbar\":{\"outlinewidth\":0,\"ticks\":\"\"},\"type\":\"choropleth\"}],\"contourcarpet\":[{\"colorbar\":{\"outlinewidth\":0,\"ticks\":\"\"},\"type\":\"contourcarpet\"}],\"contour\":[{\"colorbar\":{\"outlinewidth\":0,\"ticks\":\"\"},\"colorscale\":[[0.0,\"#0d0887\"],[0.1111111111111111,\"#46039f\"],[0.2222222222222222,\"#7201a8\"],[0.3333333333333333,\"#9c179e\"],[0.4444444444444444,\"#bd3786\"],[0.5555555555555556,\"#d8576b\"],[0.6666666666666666,\"#ed7953\"],[0.7777777777777778,\"#fb9f3a\"],[0.8888888888888888,\"#fdca26\"],[1.0,\"#f0f921\"]],\"type\":\"contour\"}],\"heatmapgl\":[{\"colorbar\":{\"outlinewidth\":0,\"ticks\":\"\"},\"colorscale\":[[0.0,\"#0d0887\"],[0.1111111111111111,\"#46039f\"],[0.2222222222222222,\"#7201a8\"],[0.3333333333333333,\"#9c179e\"],[0.4444444444444444,\"#bd3786\"],[0.5555555555555556,\"#d8576b\"],[0.6666666666666666,\"#ed7953\"],[0.7777777777777778,\"#fb9f3a\"],[0.8888888888888888,\"#fdca26\"],[1.0,\"#f0f921\"]],\"type\":\"heatmapgl\"}],\"heatmap\":[{\"colorbar\":{\"outlinewidth\":0,\"ticks\":\"\"},\"colorscale\":[[0.0,\"#0d0887\"],[0.1111111111111111,\"#46039f\"],[0.2222222222222222,\"#7201a8\"],[0.3333333333333333,\"#9c179e\"],[0.4444444444444444,\"#bd3786\"],[0.5555555555555556,\"#d8576b\"],[0.6666666666666666,\"#ed7953\"],[0.7777777777777778,\"#fb9f3a\"],[0.8888888888888888,\"#fdca26\"],[1.0,\"#f0f921\"]],\"type\":\"heatmap\"}],\"histogram2dcontour\":[{\"colorbar\":{\"outlinewidth\":0,\"ticks\":\"\"},\"colorscale\":[[0.0,\"#0d0887\"],[0.1111111111111111,\"#46039f\"],[0.2222222222222222,\"#7201a8\"],[0.3333333333333333,\"#9c179e\"],[0.4444444444444444,\"#bd3786\"],[0.5555555555555556,\"#d8576b\"],[0.6666666666666666,\"#ed7953\"],[0.7777777777777778,\"#fb9f3a\"],[0.8888888888888888,\"#fdca26\"],[1.0,\"#f0f921\"]],\"type\":\"histogram2dcontour\"}],\"histogram2d\":[{\"colorbar\":{\"outlinewidth\":0,\"ticks\":\"\"},\"colorscale\":[[0.0,\"#0d0887\"],[0.1111111111111111,\"#46039f\"],[0.2222222222222222,\"#7201a8\"],[0.3333333333333333,\"#9c179e\"],[0.4444444444444444,\"#bd3786\"],[0.5555555555555556,\"#d8576b\"],[0.6666666666666666,\"#ed7953\"],[0.7777777777777778,\"#fb9f3a\"],[0.8888888888888888,\"#fdca26\"],[1.0,\"#f0f921\"]],\"type\":\"histogram2d\"}],\"histogram\":[{\"marker\":{\"pattern\":{\"fillmode\":\"overlay\",\"size\":10,\"solidity\":0.2}},\"type\":\"histogram\"}],\"mesh3d\":[{\"colorbar\":{\"outlinewidth\":0,\"ticks\":\"\"},\"type\":\"mesh3d\"}],\"parcoords\":[{\"line\":{\"colorbar\":{\"outlinewidth\":0,\"ticks\":\"\"}},\"type\":\"parcoords\"}],\"pie\":[{\"automargin\":true,\"type\":\"pie\"}],\"scatter3d\":[{\"line\":{\"colorbar\":{\"outlinewidth\":0,\"ticks\":\"\"}},\"marker\":{\"colorbar\":{\"outlinewidth\":0,\"ticks\":\"\"}},\"type\":\"scatter3d\"}],\"scattercarpet\":[{\"marker\":{\"colorbar\":{\"outlinewidth\":0,\"ticks\":\"\"}},\"type\":\"scattercarpet\"}],\"scattergeo\":[{\"marker\":{\"colorbar\":{\"outlinewidth\":0,\"ticks\":\"\"}},\"type\":\"scattergeo\"}],\"scattergl\":[{\"marker\":{\"line\":{\"color\":\"#283442\"}},\"type\":\"scattergl\"}],\"scattermapbox\":[{\"marker\":{\"colorbar\":{\"outlinewidth\":0,\"ticks\":\"\"}},\"type\":\"scattermapbox\"}],\"scatterpolargl\":[{\"marker\":{\"colorbar\":{\"outlinewidth\":0,\"ticks\":\"\"}},\"type\":\"scatterpolargl\"}],\"scatterpolar\":[{\"marker\":{\"colorbar\":{\"outlinewidth\":0,\"ticks\":\"\"}},\"type\":\"scatterpolar\"}],\"scatter\":[{\"marker\":{\"line\":{\"color\":\"#283442\"}},\"type\":\"scatter\"}],\"scatterternary\":[{\"marker\":{\"colorbar\":{\"outlinewidth\":0,\"ticks\":\"\"}},\"type\":\"scatterternary\"}],\"surface\":[{\"colorbar\":{\"outlinewidth\":0,\"ticks\":\"\"},\"colorscale\":[[0.0,\"#0d0887\"],[0.1111111111111111,\"#46039f\"],[0.2222222222222222,\"#7201a8\"],[0.3333333333333333,\"#9c179e\"],[0.4444444444444444,\"#bd3786\"],[0.5555555555555556,\"#d8576b\"],[0.6666666666666666,\"#ed7953\"],[0.7777777777777778,\"#fb9f3a\"],[0.8888888888888888,\"#fdca26\"],[1.0,\"#f0f921\"]],\"type\":\"surface\"}],\"table\":[{\"cells\":{\"fill\":{\"color\":\"#506784\"},\"line\":{\"color\":\"rgb(17,17,17)\"}},\"header\":{\"fill\":{\"color\":\"#2a3f5f\"},\"line\":{\"color\":\"rgb(17,17,17)\"}},\"type\":\"table\"}]},\"layout\":{\"annotationdefaults\":{\"arrowcolor\":\"#f2f5fa\",\"arrowhead\":0,\"arrowwidth\":1},\"autotypenumbers\":\"strict\",\"coloraxis\":{\"colorbar\":{\"outlinewidth\":0,\"ticks\":\"\"}},\"colorscale\":{\"diverging\":[[0,\"#8e0152\"],[0.1,\"#c51b7d\"],[0.2,\"#de77ae\"],[0.3,\"#f1b6da\"],[0.4,\"#fde0ef\"],[0.5,\"#f7f7f7\"],[0.6,\"#e6f5d0\"],[0.7,\"#b8e186\"],[0.8,\"#7fbc41\"],[0.9,\"#4d9221\"],[1,\"#276419\"]],\"sequential\":[[0.0,\"#0d0887\"],[0.1111111111111111,\"#46039f\"],[0.2222222222222222,\"#7201a8\"],[0.3333333333333333,\"#9c179e\"],[0.4444444444444444,\"#bd3786\"],[0.5555555555555556,\"#d8576b\"],[0.6666666666666666,\"#ed7953\"],[0.7777777777777778,\"#fb9f3a\"],[0.8888888888888888,\"#fdca26\"],[1.0,\"#f0f921\"]],\"sequentialminus\":[[0.0,\"#0d0887\"],[0.1111111111111111,\"#46039f\"],[0.2222222222222222,\"#7201a8\"],[0.3333333333333333,\"#9c179e\"],[0.4444444444444444,\"#bd3786\"],[0.5555555555555556,\"#d8576b\"],[0.6666666666666666,\"#ed7953\"],[0.7777777777777778,\"#fb9f3a\"],[0.8888888888888888,\"#fdca26\"],[1.0,\"#f0f921\"]]},\"colorway\":[\"#636efa\",\"#EF553B\",\"#00cc96\",\"#ab63fa\",\"#FFA15A\",\"#19d3f3\",\"#FF6692\",\"#B6E880\",\"#FF97FF\",\"#FECB52\"],\"font\":{\"color\":\"#f2f5fa\"},\"geo\":{\"bgcolor\":\"rgb(17,17,17)\",\"lakecolor\":\"rgb(17,17,17)\",\"landcolor\":\"rgb(17,17,17)\",\"showlakes\":true,\"showland\":true,\"subunitcolor\":\"#506784\"},\"hoverlabel\":{\"align\":\"left\"},\"hovermode\":\"closest\",\"mapbox\":{\"style\":\"dark\"},\"paper_bgcolor\":\"rgb(17,17,17)\",\"plot_bgcolor\":\"rgb(17,17,17)\",\"polar\":{\"angularaxis\":{\"gridcolor\":\"#506784\",\"linecolor\":\"#506784\",\"ticks\":\"\"},\"bgcolor\":\"rgb(17,17,17)\",\"radialaxis\":{\"gridcolor\":\"#506784\",\"linecolor\":\"#506784\",\"ticks\":\"\"}},\"scene\":{\"xaxis\":{\"backgroundcolor\":\"rgb(17,17,17)\",\"gridcolor\":\"#506784\",\"gridwidth\":2,\"linecolor\":\"#506784\",\"showbackground\":true,\"ticks\":\"\",\"zerolinecolor\":\"#C8D4E3\"},\"yaxis\":{\"backgroundcolor\":\"rgb(17,17,17)\",\"gridcolor\":\"#506784\",\"gridwidth\":2,\"linecolor\":\"#506784\",\"showbackground\":true,\"ticks\":\"\",\"zerolinecolor\":\"#C8D4E3\"},\"zaxis\":{\"backgroundcolor\":\"rgb(17,17,17)\",\"gridcolor\":\"#506784\",\"gridwidth\":2,\"linecolor\":\"#506784\",\"showbackground\":true,\"ticks\":\"\",\"zerolinecolor\":\"#C8D4E3\"}},\"shapedefaults\":{\"line\":{\"color\":\"#f2f5fa\"}},\"sliderdefaults\":{\"bgcolor\":\"#C8D4E3\",\"bordercolor\":\"rgb(17,17,17)\",\"borderwidth\":1,\"tickwidth\":0},\"ternary\":{\"aaxis\":{\"gridcolor\":\"#506784\",\"linecolor\":\"#506784\",\"ticks\":\"\"},\"baxis\":{\"gridcolor\":\"#506784\",\"linecolor\":\"#506784\",\"ticks\":\"\"},\"bgcolor\":\"rgb(17,17,17)\",\"caxis\":{\"gridcolor\":\"#506784\",\"linecolor\":\"#506784\",\"ticks\":\"\"}},\"title\":{\"x\":0.05},\"updatemenudefaults\":{\"bgcolor\":\"#506784\",\"borderwidth\":0},\"xaxis\":{\"automargin\":true,\"gridcolor\":\"#283442\",\"linecolor\":\"#506784\",\"ticks\":\"\",\"title\":{\"standoff\":15},\"zerolinecolor\":\"#283442\",\"zerolinewidth\":2},\"yaxis\":{\"automargin\":true,\"gridcolor\":\"#283442\",\"linecolor\":\"#506784\",\"ticks\":\"\",\"title\":{\"standoff\":15},\"zerolinecolor\":\"#283442\",\"zerolinewidth\":2}}},\"xaxis\":{\"anchor\":\"y\",\"domain\":[0.0,1.0],\"title\":{\"text\":\"Model\"}},\"yaxis\":{\"anchor\":\"x\",\"domain\":[0.0,1.0],\"title\":{\"text\":\"Score\"}},\"coloraxis\":{\"colorbar\":{\"title\":{\"text\":\"Score\"}},\"colorscale\":[[0.0,\"#0d0887\"],[0.1111111111111111,\"#46039f\"],[0.2222222222222222,\"#7201a8\"],[0.3333333333333333,\"#9c179e\"],[0.4444444444444444,\"#bd3786\"],[0.5555555555555556,\"#d8576b\"],[0.6666666666666666,\"#ed7953\"],[0.7777777777777778,\"#fb9f3a\"],[0.8888888888888888,\"#fdca26\"],[1.0,\"#f0f921\"]]},\"legend\":{\"tracegroupgap\":0},\"title\":{\"text\":\"LGBM Model\"},\"barmode\":\"relative\"},                        {\"responsive\": true}                    ).then(function(){\n",
       "                            \n",
       "var gd = document.getElementById('646813ee-702f-4335-90eb-b508465567e6');\n",
       "var x = new MutationObserver(function (mutations, observer) {{\n",
       "        var display = window.getComputedStyle(gd).display;\n",
       "        if (!display || display === 'none') {{\n",
       "            console.log([gd, 'removed!']);\n",
       "            Plotly.purge(gd);\n",
       "            observer.disconnect();\n",
       "        }}\n",
       "}});\n",
       "\n",
       "// Listen for the removal of the full notebook cells\n",
       "var notebookContainer = gd.closest('#notebook-container');\n",
       "if (notebookContainer) {{\n",
       "    x.observe(notebookContainer, {childList: true});\n",
       "}}\n",
       "\n",
       "// Listen for the clearing of the current output cell\n",
       "var outputEl = gd.closest('.output');\n",
       "if (outputEl) {{\n",
       "    x.observe(outputEl, {childList: true});\n",
       "}}\n",
       "\n",
       "                        })                };                });            </script>        </div>"
      ]
     },
     "metadata": {},
     "output_type": "display_data"
    }
   ],
   "source": [
    "models = pd.DataFrame({\n",
    "    'Model' : ['50', '60', '70', '80', '90', '100',],\n",
    "    'Score' : [lgbm_clf2_real_50,lgbm_clf2_real_60,lgbm_clf2_real_70,lgbm_clf2_real_80,lgbm_clf2_real_90,lgbm_clf2_real_100]\n",
    "})\n",
    "\n",
    "models.sort_values(by = 'Score', ascending = False)\n",
    "\n",
    "px.bar(data_frame = models, x = 'Model', y = 'Score', color = 'Score', template = 'plotly_dark', title = 'LGBM Model')"
   ]
  },
  {
   "cell_type": "code",
   "execution_count": null,
   "metadata": {},
   "outputs": [],
   "source": []
  }
 ],
 "metadata": {
  "accelerator": "GPU",
  "colab": {
   "authorship_tag": "ABX9TyNfmRaEDgZEY//kjxy1uHwM",
   "machine_shape": "hm",
   "mount_file_id": "1vs98haJ3yRcm8-CexhB6KXecp0MZqEBx",
   "provenance": []
  },
  "gpuClass": "standard",
  "kernelspec": {
   "display_name": "Python 3 (ipykernel)",
   "language": "python",
   "name": "python3"
  },
  "language_info": {
   "codemirror_mode": {
    "name": "ipython",
    "version": 3
   },
   "file_extension": ".py",
   "mimetype": "text/x-python",
   "name": "python",
   "nbconvert_exporter": "python",
   "pygments_lexer": "ipython3",
   "version": "3.7.15"
  }
 },
 "nbformat": 4,
 "nbformat_minor": 1
}
